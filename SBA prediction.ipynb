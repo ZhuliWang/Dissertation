{
 "cells": [
  {
   "cell_type": "code",
   "execution_count": 2,
   "metadata": {
    "pycharm": {
     "name": "#%%\n"
    }
   },
   "outputs": [
    {
     "name": "stdout",
     "output_type": "stream",
     "text": [
      "Package installations completed\n"
     ]
    }
   ],
   "source": [
    "import sys\n",
    "import subprocess\n",
    "import pkg_resources\n",
    "\n",
    "def install(package):\n",
    "    subprocess.check_call([sys.executable, \"-m\", \"pip\", \"install\", package])\n",
    "\n",
    "def check_list():\n",
    "    piplist = []\n",
    "    for p in pkg_resources.working_set:\n",
    "        piplist.append(p.project_name)\n",
    "    return piplist\n",
    "\n",
    "libs = ['scikit-learn', 'seaborn', 'numpy', 'matplotlib',  'imbalanced-learn', 'xgboost', 'pyttsx3', 'pandas-profiling', 'sweetviz', 'keras-tuner']\n",
    "\n",
    "for i in libs:\n",
    "    piplist = check_list()\n",
    "    try:\n",
    "        if i not in piplist:\n",
    "            install(i)\n",
    "        else:\n",
    "            next\n",
    "    except:\n",
    "        print(f'{i} failed to install')\n",
    "        next\n",
    "\n",
    "\n",
    "print('Package installations completed')"
   ]
  },
  {
   "cell_type": "code",
   "execution_count": 3,
   "metadata": {
    "pycharm": {
     "name": "#%%\n"
    }
   },
   "outputs": [
    {
     "name": "stdout",
     "output_type": "stream",
     "text": [
      "import success\n"
     ]
    }
   ],
   "source": [
    "import pandas as pd\n",
    "import numpy as np\n",
    "import matplotlib.pyplot as plt\n",
    "from sklearn.model_selection import train_test_split\n",
    "from sklearn.metrics import  confusion_matrix, classification_report\n",
    "from sklearn.preprocessing import StandardScaler\n",
    "from sklearn.pipeline import Pipeline\n",
    "from sklearn.feature_selection import SelectKBest\n",
    "from sklearn.linear_model import LogisticRegression\n",
    "from xgboost import XGBClassifier, plot_importance\n",
    "from sklearn.metrics import roc_curve\n",
    "from sklearn.metrics import roc_auc_score as AUC\n",
    "from sklearn.ensemble import RandomForestClassifier\n",
    "from sklearn import svm\n",
    "import seaborn as sns\n",
    "from sklearn import metrics\n",
    "from sklearn.model_selection import GridSearchCV\n",
    "from imblearn.under_sampling import RandomUnderSampler\n",
    "from collections import Counter\n",
    "print('import success')"
   ]
  },
  {
   "cell_type": "code",
   "metadata": {
    "pycharm": {
     "name": "#%%\n"
    }
   },
   "source": [
    "df = pd.read_csv('/Users/wangzhuli/Desktop/Programing/pythonProject/venv/SBAnational.csv')\n",
    "\n",
    "df_copy = df.copy()"
   ],
   "execution_count": 4,
   "outputs": [
    {
     "name": "stderr",
     "output_type": "stream",
     "text": [
      "/var/folders/jh/cytt78gs22j6112mw5_jsqn80000gn/T/ipykernel_46328/4218307646.py:1: DtypeWarning: Columns (9) have mixed types. Specify dtype option on import or set low_memory=False.\n",
      "  df = pd.read_csv('/Users/wangzhuli/Desktop/Programing/pythonProject/venv/SBAnational.csv')\n"
     ]
    }
   ]
  },
  {
   "cell_type": "code",
   "execution_count": 5,
   "outputs": [
    {
     "data": {
      "text/plain": "   LoanNr_ChkDgt                           Name          City State    Zip  \\\n0     1000014003                 ABC HOBBYCRAFT    EVANSVILLE    IN  47711   \n1     1000024006    LANDMARK BAR & GRILLE (THE)     NEW PARIS    IN  46526   \n2     1000034009          WHITLOCK DDS, TODD M.   BLOOMINGTON    IN  47401   \n3     1000044001  BIG BUCKS PAWN & JEWELRY, LLC  BROKEN ARROW    OK  74012   \n4     1000054004    ANASTASIA CONFECTIONS, INC.       ORLANDO    FL  32801   \n\n                            Bank BankState   NAICS ApprovalDate ApprovalFY  \\\n0               FIFTH THIRD BANK        OH  451120    28-Feb-97       1997   \n1                1ST SOURCE BANK        IN  722410    28-Feb-97       1997   \n2        GRANT COUNTY STATE BANK        IN  621210    28-Feb-97       1997   \n3  1ST NATL BK & TR CO OF BROKEN        OK       0    28-Feb-97       1997   \n4        FLORIDA BUS. DEVEL CORP        FL       0    28-Feb-97       1997   \n\n   ...  RevLineCr  LowDoc  ChgOffDate  DisbursementDate  DisbursementGross  \\\n0  ...          N       Y         NaN         28-Feb-99        $60,000.00    \n1  ...          N       Y         NaN         31-May-97        $40,000.00    \n2  ...          N       N         NaN         31-Dec-97       $287,000.00    \n3  ...          N       Y         NaN         30-Jun-97        $35,000.00    \n4  ...          N       N         NaN         14-May-97       $229,000.00    \n\n   BalanceGross  MIS_Status ChgOffPrinGr        GrAppv      SBA_Appv  \n0        $0.00        P I F       $0.00    $60,000.00    $48,000.00   \n1        $0.00        P I F       $0.00    $40,000.00    $32,000.00   \n2        $0.00        P I F       $0.00   $287,000.00   $215,250.00   \n3        $0.00        P I F       $0.00    $35,000.00    $28,000.00   \n4        $0.00        P I F       $0.00   $229,000.00   $229,000.00   \n\n[5 rows x 27 columns]",
      "text/html": "<div>\n<style scoped>\n    .dataframe tbody tr th:only-of-type {\n        vertical-align: middle;\n    }\n\n    .dataframe tbody tr th {\n        vertical-align: top;\n    }\n\n    .dataframe thead th {\n        text-align: right;\n    }\n</style>\n<table border=\"1\" class=\"dataframe\">\n  <thead>\n    <tr style=\"text-align: right;\">\n      <th></th>\n      <th>LoanNr_ChkDgt</th>\n      <th>Name</th>\n      <th>City</th>\n      <th>State</th>\n      <th>Zip</th>\n      <th>Bank</th>\n      <th>BankState</th>\n      <th>NAICS</th>\n      <th>ApprovalDate</th>\n      <th>ApprovalFY</th>\n      <th>...</th>\n      <th>RevLineCr</th>\n      <th>LowDoc</th>\n      <th>ChgOffDate</th>\n      <th>DisbursementDate</th>\n      <th>DisbursementGross</th>\n      <th>BalanceGross</th>\n      <th>MIS_Status</th>\n      <th>ChgOffPrinGr</th>\n      <th>GrAppv</th>\n      <th>SBA_Appv</th>\n    </tr>\n  </thead>\n  <tbody>\n    <tr>\n      <th>0</th>\n      <td>1000014003</td>\n      <td>ABC HOBBYCRAFT</td>\n      <td>EVANSVILLE</td>\n      <td>IN</td>\n      <td>47711</td>\n      <td>FIFTH THIRD BANK</td>\n      <td>OH</td>\n      <td>451120</td>\n      <td>28-Feb-97</td>\n      <td>1997</td>\n      <td>...</td>\n      <td>N</td>\n      <td>Y</td>\n      <td>NaN</td>\n      <td>28-Feb-99</td>\n      <td>$60,000.00</td>\n      <td>$0.00</td>\n      <td>P I F</td>\n      <td>$0.00</td>\n      <td>$60,000.00</td>\n      <td>$48,000.00</td>\n    </tr>\n    <tr>\n      <th>1</th>\n      <td>1000024006</td>\n      <td>LANDMARK BAR &amp; GRILLE (THE)</td>\n      <td>NEW PARIS</td>\n      <td>IN</td>\n      <td>46526</td>\n      <td>1ST SOURCE BANK</td>\n      <td>IN</td>\n      <td>722410</td>\n      <td>28-Feb-97</td>\n      <td>1997</td>\n      <td>...</td>\n      <td>N</td>\n      <td>Y</td>\n      <td>NaN</td>\n      <td>31-May-97</td>\n      <td>$40,000.00</td>\n      <td>$0.00</td>\n      <td>P I F</td>\n      <td>$0.00</td>\n      <td>$40,000.00</td>\n      <td>$32,000.00</td>\n    </tr>\n    <tr>\n      <th>2</th>\n      <td>1000034009</td>\n      <td>WHITLOCK DDS, TODD M.</td>\n      <td>BLOOMINGTON</td>\n      <td>IN</td>\n      <td>47401</td>\n      <td>GRANT COUNTY STATE BANK</td>\n      <td>IN</td>\n      <td>621210</td>\n      <td>28-Feb-97</td>\n      <td>1997</td>\n      <td>...</td>\n      <td>N</td>\n      <td>N</td>\n      <td>NaN</td>\n      <td>31-Dec-97</td>\n      <td>$287,000.00</td>\n      <td>$0.00</td>\n      <td>P I F</td>\n      <td>$0.00</td>\n      <td>$287,000.00</td>\n      <td>$215,250.00</td>\n    </tr>\n    <tr>\n      <th>3</th>\n      <td>1000044001</td>\n      <td>BIG BUCKS PAWN &amp; JEWELRY, LLC</td>\n      <td>BROKEN ARROW</td>\n      <td>OK</td>\n      <td>74012</td>\n      <td>1ST NATL BK &amp; TR CO OF BROKEN</td>\n      <td>OK</td>\n      <td>0</td>\n      <td>28-Feb-97</td>\n      <td>1997</td>\n      <td>...</td>\n      <td>N</td>\n      <td>Y</td>\n      <td>NaN</td>\n      <td>30-Jun-97</td>\n      <td>$35,000.00</td>\n      <td>$0.00</td>\n      <td>P I F</td>\n      <td>$0.00</td>\n      <td>$35,000.00</td>\n      <td>$28,000.00</td>\n    </tr>\n    <tr>\n      <th>4</th>\n      <td>1000054004</td>\n      <td>ANASTASIA CONFECTIONS, INC.</td>\n      <td>ORLANDO</td>\n      <td>FL</td>\n      <td>32801</td>\n      <td>FLORIDA BUS. DEVEL CORP</td>\n      <td>FL</td>\n      <td>0</td>\n      <td>28-Feb-97</td>\n      <td>1997</td>\n      <td>...</td>\n      <td>N</td>\n      <td>N</td>\n      <td>NaN</td>\n      <td>14-May-97</td>\n      <td>$229,000.00</td>\n      <td>$0.00</td>\n      <td>P I F</td>\n      <td>$0.00</td>\n      <td>$229,000.00</td>\n      <td>$229,000.00</td>\n    </tr>\n  </tbody>\n</table>\n<p>5 rows × 27 columns</p>\n</div>"
     },
     "execution_count": 5,
     "metadata": {},
     "output_type": "execute_result"
    }
   ],
   "source": [
    "df_copy.head()"
   ],
   "metadata": {
    "collapsed": false,
    "pycharm": {
     "name": "#%%\n"
    }
   }
  },
  {
   "cell_type": "code",
   "execution_count": 6,
   "outputs": [
    {
     "name": "stdout",
     "output_type": "stream",
     "text": [
      "<class 'pandas.core.frame.DataFrame'>\n",
      "RangeIndex: 899164 entries, 0 to 899163\n",
      "Data columns (total 27 columns):\n",
      " #   Column             Non-Null Count   Dtype  \n",
      "---  ------             --------------   -----  \n",
      " 0   LoanNr_ChkDgt      899164 non-null  int64  \n",
      " 1   Name               899150 non-null  object \n",
      " 2   City               899134 non-null  object \n",
      " 3   State              899150 non-null  object \n",
      " 4   Zip                899164 non-null  int64  \n",
      " 5   Bank               897605 non-null  object \n",
      " 6   BankState          897598 non-null  object \n",
      " 7   NAICS              899164 non-null  int64  \n",
      " 8   ApprovalDate       899164 non-null  object \n",
      " 9   ApprovalFY         899164 non-null  object \n",
      " 10  Term               899164 non-null  int64  \n",
      " 11  NoEmp              899164 non-null  int64  \n",
      " 12  NewExist           899028 non-null  float64\n",
      " 13  CreateJob          899164 non-null  int64  \n",
      " 14  RetainedJob        899164 non-null  int64  \n",
      " 15  FranchiseCode      899164 non-null  int64  \n",
      " 16  UrbanRural         899164 non-null  int64  \n",
      " 17  RevLineCr          894636 non-null  object \n",
      " 18  LowDoc             896582 non-null  object \n",
      " 19  ChgOffDate         162699 non-null  object \n",
      " 20  DisbursementDate   896796 non-null  object \n",
      " 21  DisbursementGross  899164 non-null  object \n",
      " 22  BalanceGross       899164 non-null  object \n",
      " 23  MIS_Status         897167 non-null  object \n",
      " 24  ChgOffPrinGr       899164 non-null  object \n",
      " 25  GrAppv             899164 non-null  object \n",
      " 26  SBA_Appv           899164 non-null  object \n",
      "dtypes: float64(1), int64(9), object(17)\n",
      "memory usage: 185.2+ MB\n"
     ]
    }
   ],
   "source": [
    "df.info()"
   ],
   "metadata": {
    "collapsed": false,
    "pycharm": {
     "name": "#%%\n"
    }
   }
  },
  {
   "cell_type": "code",
   "execution_count": 7,
   "metadata": {
    "pycharm": {
     "name": "#%%\n"
    }
   },
   "outputs": [
    {
     "name": "stdout",
     "output_type": "stream",
     "text": [
      "Empty DataFrame\n",
      "Columns: [LoanNr_ChkDgt, Name, City, State, Zip, Bank, BankState, NAICS, ApprovalDate, ApprovalFY, Term, NoEmp, NewExist, CreateJob, RetainedJob, FranchiseCode, UrbanRural, RevLineCr, LowDoc, ChgOffDate, DisbursementDate, DisbursementGross, BalanceGross, MIS_Status, ChgOffPrinGr, GrAppv, SBA_Appv]\n",
      "Index: []\n",
      "\n",
      "[0 rows x 27 columns]\n"
     ]
    }
   ],
   "source": [
    "print(df_copy.head(0))"
   ]
  },
  {
   "cell_type": "code",
   "execution_count": 8,
   "metadata": {
    "pycharm": {
     "name": "#%%\n"
    }
   },
   "outputs": [
    {
     "data": {
      "text/plain": "(899164, 27)"
     },
     "execution_count": 8,
     "metadata": {},
     "output_type": "execute_result"
    }
   ],
   "source": [
    "df_copy.shape"
   ]
  },
  {
   "cell_type": "code",
   "execution_count": 9,
   "metadata": {
    "pycharm": {
     "name": "#%%\n"
    }
   },
   "outputs": [
    {
     "data": {
      "text/plain": "LoanNr_ChkDgt             0\nName                     14\nCity                     30\nState                    14\nZip                       0\nBank                   1559\nBankState              1566\nNAICS                     0\nApprovalDate              0\nApprovalFY                0\nTerm                      0\nNoEmp                     0\nNewExist                136\nCreateJob                 0\nRetainedJob               0\nFranchiseCode             0\nUrbanRural                0\nRevLineCr              4528\nLowDoc                 2582\nChgOffDate           736465\nDisbursementDate       2368\nDisbursementGross         0\nBalanceGross              0\nMIS_Status             1997\nChgOffPrinGr              0\nGrAppv                    0\nSBA_Appv                  0\ndtype: int64"
     },
     "execution_count": 9,
     "metadata": {},
     "output_type": "execute_result"
    }
   ],
   "source": [
    "df_copy.isnull().sum()"
   ]
  },
  {
   "cell_type": "code",
   "execution_count": 10,
   "metadata": {
    "pycharm": {
     "name": "#%%\n"
    }
   },
   "outputs": [
    {
     "data": {
      "text/plain": "LoanNr_ChkDgt             0\nName                      0\nCity                      0\nState                     0\nZip                       0\nBank                      0\nBankState                 0\nNAICS                     0\nApprovalDate              0\nApprovalFY                0\nTerm                      0\nNoEmp                     0\nNewExist                  0\nCreateJob                 0\nRetainedJob               0\nFranchiseCode             0\nUrbanRural                0\nRevLineCr                 0\nLowDoc                    0\nChgOffDate           725369\nDisbursementDate          0\nDisbursementGross         0\nBalanceGross              0\nMIS_Status                0\nChgOffPrinGr              0\nGrAppv                    0\nSBA_Appv                  0\ndtype: int64"
     },
     "execution_count": 10,
     "metadata": {},
     "output_type": "execute_result"
    }
   ],
   "source": [
    "df_copy.dropna(subset=['Name', 'City', 'State', 'BankState', 'NewExist','RevLineCr', 'LowDoc', 'DisbursementDate', 'MIS_Status'], inplace=True)\n",
    "df_copy.isnull().sum()"
   ]
  },
  {
   "cell_type": "code",
   "execution_count": 11,
   "metadata": {
    "pycharm": {
     "name": "#%%\n"
    }
   },
   "outputs": [
    {
     "data": {
      "text/plain": "LoanNr_ChkDgt          int64\nName                  object\nCity                  object\nState                 object\nZip                    int64\nBank                  object\nBankState             object\nNAICS                  int64\nApprovalDate          object\nApprovalFY            object\nTerm                   int64\nNoEmp                  int64\nNewExist             float64\nCreateJob              int64\nRetainedJob            int64\nFranchiseCode          int64\nUrbanRural             int64\nRevLineCr             object\nLowDoc                object\nChgOffDate            object\nDisbursementDate      object\nDisbursementGross     object\nBalanceGross          object\nMIS_Status            object\nChgOffPrinGr          object\nGrAppv                object\nSBA_Appv              object\ndtype: object"
     },
     "execution_count": 11,
     "metadata": {},
     "output_type": "execute_result"
    }
   ],
   "source": [
    "df_copy.dtypes"
   ]
  },
  {
   "cell_type": "code",
   "execution_count": 12,
   "metadata": {
    "pycharm": {
     "name": "#%%\n"
    }
   },
   "outputs": [
    {
     "data": {
      "text/plain": "  DisbursementGross BalanceGross ChgOffPrinGr        GrAppv      SBA_Appv\n0       $60,000.00        $0.00        $0.00    $60,000.00    $48,000.00 \n1       $40,000.00        $0.00        $0.00    $40,000.00    $32,000.00 \n2      $287,000.00        $0.00        $0.00   $287,000.00   $215,250.00 \n3       $35,000.00        $0.00        $0.00    $35,000.00    $28,000.00 \n4      $229,000.00        $0.00        $0.00   $229,000.00   $229,000.00 ",
      "text/html": "<div>\n<style scoped>\n    .dataframe tbody tr th:only-of-type {\n        vertical-align: middle;\n    }\n\n    .dataframe tbody tr th {\n        vertical-align: top;\n    }\n\n    .dataframe thead th {\n        text-align: right;\n    }\n</style>\n<table border=\"1\" class=\"dataframe\">\n  <thead>\n    <tr style=\"text-align: right;\">\n      <th></th>\n      <th>DisbursementGross</th>\n      <th>BalanceGross</th>\n      <th>ChgOffPrinGr</th>\n      <th>GrAppv</th>\n      <th>SBA_Appv</th>\n    </tr>\n  </thead>\n  <tbody>\n    <tr>\n      <th>0</th>\n      <td>$60,000.00</td>\n      <td>$0.00</td>\n      <td>$0.00</td>\n      <td>$60,000.00</td>\n      <td>$48,000.00</td>\n    </tr>\n    <tr>\n      <th>1</th>\n      <td>$40,000.00</td>\n      <td>$0.00</td>\n      <td>$0.00</td>\n      <td>$40,000.00</td>\n      <td>$32,000.00</td>\n    </tr>\n    <tr>\n      <th>2</th>\n      <td>$287,000.00</td>\n      <td>$0.00</td>\n      <td>$0.00</td>\n      <td>$287,000.00</td>\n      <td>$215,250.00</td>\n    </tr>\n    <tr>\n      <th>3</th>\n      <td>$35,000.00</td>\n      <td>$0.00</td>\n      <td>$0.00</td>\n      <td>$35,000.00</td>\n      <td>$28,000.00</td>\n    </tr>\n    <tr>\n      <th>4</th>\n      <td>$229,000.00</td>\n      <td>$0.00</td>\n      <td>$0.00</td>\n      <td>$229,000.00</td>\n      <td>$229,000.00</td>\n    </tr>\n  </tbody>\n</table>\n</div>"
     },
     "execution_count": 12,
     "metadata": {},
     "output_type": "execute_result"
    }
   ],
   "source": [
    "df_copy[['DisbursementGross', 'BalanceGross', 'ChgOffPrinGr', 'GrAppv', 'SBA_Appv']].head()"
   ]
  },
  {
   "cell_type": "code",
   "execution_count": 13,
   "metadata": {
    "pycharm": {
     "name": "#%%\n"
    }
   },
   "outputs": [
    {
     "data": {
      "text/plain": "  DisbursementGross BalanceGross ChgOffPrinGr     GrAppv   SBA_Appv\n0          60000.00         0.00         0.00   60000.00   48000.00\n1          40000.00         0.00         0.00   40000.00   32000.00\n2         287000.00         0.00         0.00  287000.00  215250.00\n3          35000.00         0.00         0.00   35000.00   28000.00\n4         229000.00         0.00         0.00  229000.00  229000.00",
      "text/html": "<div>\n<style scoped>\n    .dataframe tbody tr th:only-of-type {\n        vertical-align: middle;\n    }\n\n    .dataframe tbody tr th {\n        vertical-align: top;\n    }\n\n    .dataframe thead th {\n        text-align: right;\n    }\n</style>\n<table border=\"1\" class=\"dataframe\">\n  <thead>\n    <tr style=\"text-align: right;\">\n      <th></th>\n      <th>DisbursementGross</th>\n      <th>BalanceGross</th>\n      <th>ChgOffPrinGr</th>\n      <th>GrAppv</th>\n      <th>SBA_Appv</th>\n    </tr>\n  </thead>\n  <tbody>\n    <tr>\n      <th>0</th>\n      <td>60000.00</td>\n      <td>0.00</td>\n      <td>0.00</td>\n      <td>60000.00</td>\n      <td>48000.00</td>\n    </tr>\n    <tr>\n      <th>1</th>\n      <td>40000.00</td>\n      <td>0.00</td>\n      <td>0.00</td>\n      <td>40000.00</td>\n      <td>32000.00</td>\n    </tr>\n    <tr>\n      <th>2</th>\n      <td>287000.00</td>\n      <td>0.00</td>\n      <td>0.00</td>\n      <td>287000.00</td>\n      <td>215250.00</td>\n    </tr>\n    <tr>\n      <th>3</th>\n      <td>35000.00</td>\n      <td>0.00</td>\n      <td>0.00</td>\n      <td>35000.00</td>\n      <td>28000.00</td>\n    </tr>\n    <tr>\n      <th>4</th>\n      <td>229000.00</td>\n      <td>0.00</td>\n      <td>0.00</td>\n      <td>229000.00</td>\n      <td>229000.00</td>\n    </tr>\n  </tbody>\n</table>\n</div>"
     },
     "execution_count": 13,
     "metadata": {},
     "output_type": "execute_result"
    }
   ],
   "source": [
    "def clean_dollar(x):\n",
    "    return x.strip().replace('$', '').replace(',', '')\n",
    "df_copy[['DisbursementGross', 'BalanceGross', 'ChgOffPrinGr', 'GrAppv', 'SBA_Appv']] = df_copy[['DisbursementGross', 'BalanceGross', \n",
    "                                                                                                'ChgOffPrinGr', 'GrAppv', 'SBA_Appv']].applymap(clean_dollar)\n",
    "df_copy[['DisbursementGross', 'BalanceGross', 'ChgOffPrinGr', 'GrAppv', 'SBA_Appv']].head()"
   ]
  },
  {
   "cell_type": "code",
   "execution_count": 14,
   "metadata": {
    "pycharm": {
     "name": "#%%\n"
    }
   },
   "outputs": [
    {
     "name": "stdout",
     "output_type": "stream",
     "text": [
      "<class 'int'>    759570\n",
      "<class 'str'>    126670\n",
      "Name: ApprovalFY, dtype: int64\n",
      "[1997 1980 2006 1998 1999 2000 2001 1972 2003 2004 1978 1979 1981 2005\n",
      " 1982 1983 1973 1984 2007 1985 1986 1987 2008 1988 2009 1989 1991 1990\n",
      " 1974 2010 2011 1992 1993 2002 2012 2013 1994 2014 1975 1977 1976 '2004'\n",
      " '1994' '1979' '1976' '1975' '1974' '1977' '1981' '1982' '1983' '1984'\n",
      " '1978' '1980' '1968' '1976A' '1969' '1995' '1970' '2005' '1996' '1971'\n",
      " 1996 1971]\n"
     ]
    }
   ],
   "source": [
    "print(df_copy['ApprovalFY'].apply(type).value_counts())\n",
    "print(df_copy['ApprovalFY'].unique())"
   ]
  },
  {
   "cell_type": "code",
   "execution_count": 15,
   "metadata": {
    "pycharm": {
     "name": "#%%\n"
    }
   },
   "outputs": [
    {
     "name": "stdout",
     "output_type": "stream",
     "text": [
      "[1997 1980 2006 1998 1999 2000 2001 1972 2003 2004 1978 1979 1981 2005\n",
      " 1982 1983 1973 1984 2007 1985 1986 1987 2008 1988 2009 1989 1991 1990\n",
      " 1974 2010 2011 1992 1993 2002 2012 2013 1994 2014 1975 1977 1976 1968\n",
      " 1969 1995 1970 1996 1971]\n"
     ]
    }
   ],
   "source": [
    "def clear_ApprovalFY(x):\n",
    "    if isinstance(x, str):\n",
    "        x = int(x.replace('A', ''))\n",
    "        return x\n",
    "    return x\n",
    "df_copy['ApprovalFY'] = df_copy['ApprovalFY'].apply(clear_ApprovalFY)\n",
    "print(df_copy['ApprovalFY'].unique())"
   ]
  },
  {
   "cell_type": "code",
   "execution_count": 16,
   "metadata": {
    "pycharm": {
     "name": "#%%\n"
    }
   },
   "outputs": [
    {
     "data": {
      "text/plain": "LoanNr_ChkDgt          int64\nName                  object\nCity                  object\nState                 object\nZip                   object\nBank                  object\nBankState             object\nNAICS                  int64\nApprovalDate          object\nApprovalFY             int64\nTerm                   int64\nNoEmp                  int64\nNewExist               int64\nCreateJob              int64\nRetainedJob            int64\nFranchiseCode          int64\nUrbanRural            object\nRevLineCr             object\nLowDoc                object\nChgOffDate            object\nDisbursementDate      object\nDisbursementGross    float64\nBalanceGross         float64\nMIS_Status            object\nChgOffPrinGr         float64\nGrAppv               float64\nSBA_Appv             float64\ndtype: object"
     },
     "execution_count": 16,
     "metadata": {},
     "output_type": "execute_result"
    }
   ],
   "source": [
    "df_copy = df_copy.astype({'Zip': 'str', 'NewExist': 'int64', 'UrbanRural': 'str', 'DisbursementGross': 'float', 'BalanceGross': 'float', 'ChgOffPrinGr': 'float', 'GrAppv': 'float', 'SBA_Appv': 'float'})\n",
    "\n",
    "df_copy.dtypes"
   ]
  },
  {
   "cell_type": "code",
   "execution_count": 17,
   "metadata": {
    "pycharm": {
     "name": "#%%\n"
    }
   },
   "outputs": [],
   "source": [
    "def naics_convert(x):\n",
    "    digits = str(x)\n",
    "    naics = digits[:2]\n",
    "    return naics\n",
    "\n",
    "df_copy['Industry'] = df_copy['NAICS'].apply(naics_convert)\n",
    "\n",
    "NAICS_abre={'11': 'Ag/For/Fish/Hunt','21': 'Min/Quar/Oil_Gas_ext','22': 'Utilities','23': 'Construction',\n",
    "            '31': 'Manufacturing','32': 'Manufacturing','33': 'Manufacturing','42': 'Wholesale_trade','44': 'Retail_trade','45': 'Retail_trade','48': 'Trans/Ware','49': 'Trans/Ware','51': 'Information','52': 'Finance/Insurance','53': 'RE/Rental/Lease','54': 'Prof/Science/Tech','55': 'Mgmt_comp','56': 'Admin_sup/Waste_Mgmt_Rem','61': 'Educational','62': 'Healthcare/Social_assist','71': 'Arts/Entertain/Rec','72': 'Accom/Food_serv','81': 'Other_no_pub','92': 'Public_Admin'}\n",
    "\n",
    "df_copy['Industry'] = df_copy['Industry'].map(NAICS_abre)\n",
    "\n",
    "df_copy.dropna(subset=['Industry'], inplace=True)"
   ]
  },
  {
   "cell_type": "code",
   "execution_count": 18,
   "metadata": {
    "pycharm": {
     "name": "#%%\n"
    }
   },
   "outputs": [
    {
     "name": "stdout",
     "output_type": "stream",
     "text": [
      "[0. 1.]\n",
      "0.0    653340\n",
      "1.0     34633\n",
      "Name: IsFranchise, dtype: int64\n"
     ]
    },
    {
     "data": {
      "text/plain": "<Figure size 432x288 with 1 Axes>",
      "image/png": "[encoded data removed]"
     },
     "metadata": {
      "needs_background": "light"
     },
     "output_type": "display_data"
    }
   ],
   "source": [
    "df_copy.loc[(df_copy['FranchiseCode'] <= 1), 'IsFranchise'] = 0\n",
    "df_copy.loc[(df_copy['FranchiseCode'] > 1), 'IsFranchise'] = 1\n",
    "print(df_copy['IsFranchise'].unique())\n",
    "print(df_copy['IsFranchise'].value_counts())\n",
    "plt.bar(['0','1'],df_copy['IsFranchise'].value_counts())\n",
    "plt.show()"
   ]
  },
  {
   "cell_type": "code",
   "execution_count": 19,
   "metadata": {
    "pycharm": {
     "name": "#%%\n"
    }
   },
   "outputs": [
    {
     "name": "stdout",
     "output_type": "stream",
     "text": [
      "[2 1 0]\n"
     ]
    }
   ],
   "source": [
    "print(df_copy['NewExist'].unique())"
   ]
  },
  {
   "cell_type": "code",
   "execution_count": 20,
   "metadata": {
    "pycharm": {
     "name": "#%%\n"
    }
   },
   "outputs": [
    {
     "name": "stdout",
     "output_type": "stream",
     "text": [
      "[2 1]\n",
      "0.0    496618\n",
      "1.0    190628\n",
      "Name: NewBusiness, dtype: int64\n"
     ]
    },
    {
     "data": {
      "text/plain": "<Figure size 432x288 with 1 Axes>",
      "image/png": "[encoded data removed]"
     },
     "metadata": {
      "needs_background": "light"
     },
     "output_type": "display_data"
    }
   ],
   "source": [
    "df_copy = df_copy[(df_copy['NewExist'] == 1) | (df_copy['NewExist'] == 2)]\n",
    "\n",
    "df_copy.loc[(df_copy['NewExist'] == 1), 'NewBusiness'] = 0\n",
    "df_copy.loc[(df_copy['NewExist'] == 2), 'NewBusiness'] = 1\n",
    "\n",
    "print(df_copy['NewExist'].unique())\n",
    "print(df_copy['NewBusiness'].value_counts())\n",
    "plt.bar(['0','1'],df_copy['IsFranchise'].value_counts())\n",
    "plt.show()"
   ]
  },
  {
   "cell_type": "code",
   "execution_count": 21,
   "metadata": {
    "pycharm": {
     "name": "#%%\n"
    }
   },
   "outputs": [
    {
     "name": "stdout",
     "output_type": "stream",
     "text": [
      "['N' 'Y' '0' 'T' '`' ',' '1' 'C' '2' 'R' '7' 'A' '-' 'Q']\n"
     ]
    }
   ],
   "source": [
    "print(df_copy['RevLineCr'].unique())"
   ]
  },
  {
   "cell_type": "code",
   "execution_count": 22,
   "metadata": {
    "pycharm": {
     "name": "#%%\n"
    }
   },
   "outputs": [
    {
     "name": "stdout",
     "output_type": "stream",
     "text": [
      "[0 1]\n"
     ]
    }
   ],
   "source": [
    "df_copy = df_copy[(df_copy['RevLineCr'] == 'Y') | (df_copy['RevLineCr'] == 'N')]\n",
    "df_copy['RevLineCr'] = np.where(df_copy['RevLineCr'] == 'N', 0, 1)\n",
    "print(df_copy['RevLineCr'].unique())"
   ]
  },
  {
   "cell_type": "code",
   "execution_count": 23,
   "outputs": [
    {
     "name": "stdout",
     "output_type": "stream",
     "text": [
      "['Y' 'N' 'C' '1' 'S' 'R' 'A' '0']\n"
     ]
    }
   ],
   "source": [
    "print(df_copy['LowDoc'].unique())"
   ],
   "metadata": {
    "collapsed": false,
    "pycharm": {
     "name": "#%%\n"
    }
   }
  },
  {
   "cell_type": "code",
   "execution_count": 24,
   "outputs": [
    {
     "name": "stdout",
     "output_type": "stream",
     "text": [
      "[1 0]\n"
     ]
    }
   ],
   "source": [
    "df_copy = df_copy[(df_copy['LowDoc'] == 'Y') | (df_copy['LowDoc'] == 'N')]\n",
    "df_copy['LowDoc'] = np.where(df_copy['LowDoc'] == 'N', 0, 1)\n",
    "print(df_copy['LowDoc'].unique())"
   ],
   "metadata": {
    "collapsed": false,
    "pycharm": {
     "name": "#%%\n"
    }
   }
  },
  {
   "cell_type": "code",
   "execution_count": 25,
   "metadata": {
    "pycharm": {
     "name": "#%%\n"
    }
   },
   "outputs": [
    {
     "name": "stdout",
     "output_type": "stream",
     "text": [
      "0    358558\n",
      "1     98382\n",
      "Name: Default, dtype: int64\n"
     ]
    },
    {
     "data": {
      "text/plain": "<Figure size 432x288 with 1 Axes>",
      "image/png": "[encoded data removed]"
     },
     "metadata": {
      "needs_background": "light"
     },
     "output_type": "display_data"
    }
   ],
   "source": [
    "df_copy['Default'] = np.where(df_copy['MIS_Status'] == 'P I F', 0, 1)\n",
    "print(df_copy['Default'].value_counts())\n",
    "\n",
    "plt.bar(['0','1'],df_copy['Default'].value_counts())\n",
    "plt.show()"
   ]
  },
  {
   "cell_type": "code",
   "execution_count": 26,
   "metadata": {
    "pycharm": {
     "name": "#%%\n"
    }
   },
   "outputs": [],
   "source": [
    "df_copy[['ApprovalDate', 'DisbursementDate']] = df_copy[['ApprovalDate', 'DisbursementDate']].apply(pd.to_datetime)"
   ]
  },
  {
   "cell_type": "code",
   "execution_count": 27,
   "metadata": {
    "pycharm": {
     "name": "#%%\n"
    }
   },
   "outputs": [
    {
     "name": "stdout",
     "output_type": "stream",
     "text": [
      "0         730\n",
      "1          92\n",
      "2         306\n",
      "5         122\n",
      "7         487\n",
      "         ... \n",
      "899145     32\n",
      "899146    167\n",
      "899157     32\n",
      "899160    246\n",
      "899161    215\n",
      "Name: DaysToDisbursement, Length: 456940, dtype: int64\n",
      "0         1999\n",
      "1         1997\n",
      "2         1997\n",
      "5         1997\n",
      "7         1998\n",
      "          ... \n",
      "899145    1997\n",
      "899146    1997\n",
      "899157    1997\n",
      "899160    1997\n",
      "899161    1997\n",
      "Name: DisbursementFY, Length: 456940, dtype: int64\n"
     ]
    }
   ],
   "source": [
    "df_copy['DaysToDisbursement'] = df_copy['DisbursementDate'] - df_copy['ApprovalDate']\n",
    "\n",
    "def dtd_format(x):\n",
    "    str_dtd = str(x)\n",
    "    int_dtd = int(str_dtd[:str_dtd.index('d')-1])\n",
    "    return int_dtd\n",
    "df_copy['DaysToDisbursement'] = df_copy['DaysToDisbursement'].apply(dtd_format)\n",
    "\n",
    "def df_format(x):\n",
    "    return x.year\n",
    "df_copy['DisbursementFY'] = df_copy['DisbursementDate'].map(df_format)\n",
    "\n",
    "print(df_copy['DaysToDisbursement'])\n",
    "print(df_copy['DisbursementFY'])"
   ]
  },
  {
   "cell_type": "code",
   "execution_count": 28,
   "metadata": {
    "pycharm": {
     "name": "#%%\n"
    }
   },
   "outputs": [
    {
     "name": "stdout",
     "output_type": "stream",
     "text": [
      "0         0\n",
      "1         1\n",
      "2         1\n",
      "5         0\n",
      "7         0\n",
      "         ..\n",
      "899145    0\n",
      "899146    1\n",
      "899157    1\n",
      "899160    0\n",
      "899161    1\n",
      "Name: StateSame, Length: 456940, dtype: int64\n"
     ]
    }
   ],
   "source": [
    "df_copy['StateSame'] = np.where(df_copy['State'] == df_copy['BankState'], 1, 0)\n",
    "\n",
    "print(df_copy['StateSame'])"
   ]
  },
  {
   "cell_type": "code",
   "execution_count": 29,
   "metadata": {
    "pycharm": {
     "name": "#%%\n"
    }
   },
   "outputs": [
    {
     "name": "stdout",
     "output_type": "stream",
     "text": [
      "0         0.80\n",
      "1         0.80\n",
      "2         0.75\n",
      "5         0.75\n",
      "7         0.80\n",
      "          ... \n",
      "899145    0.50\n",
      "899146    1.00\n",
      "899157    0.75\n",
      "899160    0.50\n",
      "899161    0.75\n",
      "Name: SBA_AppvPct, Length: 456940, dtype: float64\n"
     ]
    }
   ],
   "source": [
    "df_copy['SBA_AppvPct'] = df_copy['SBA_Appv'] / df_copy['GrAppv']\n",
    "print(df_copy['SBA_AppvPct'])"
   ]
  },
  {
   "cell_type": "code",
   "execution_count": 30,
   "metadata": {
    "pycharm": {
     "name": "#%%\n"
    }
   },
   "outputs": [
    {
     "name": "stdout",
     "output_type": "stream",
     "text": [
      "0         1\n",
      "1         1\n",
      "2         1\n",
      "5         1\n",
      "7         1\n",
      "         ..\n",
      "899145    1\n",
      "899146    1\n",
      "899157    1\n",
      "899160    1\n",
      "899161    1\n",
      "Name: AppvDisbursed, Length: 456940, dtype: int64\n"
     ]
    },
    {
     "data": {
      "text/plain": "1    290883\n0    166057\nName: AppvDisbursed, dtype: int64"
     },
     "execution_count": 30,
     "metadata": {},
     "output_type": "execute_result"
    }
   ],
   "source": [
    "df_copy['AppvDisbursed'] = np.where(df_copy['DisbursementGross'] == df_copy['GrAppv'], 1, 0)\n",
    "print(df_copy['AppvDisbursed'])\n",
    "df_copy['AppvDisbursed'].value_counts()"
   ]
  },
  {
   "cell_type": "code",
   "execution_count": 31,
   "metadata": {
    "pycharm": {
     "name": "#%%\n"
    }
   },
   "outputs": [
    {
     "data": {
      "text/plain": "LoanNr_ChkDgt                  int64\nName                          object\nCity                          object\nState                         object\nZip                           object\nBank                          object\nBankState                     object\nNAICS                          int64\nApprovalDate          datetime64[ns]\nApprovalFY                     int64\nTerm                           int64\nNoEmp                          int64\nNewExist                       int64\nCreateJob                      int64\nRetainedJob                    int64\nFranchiseCode                  int64\nUrbanRural                    object\nRevLineCr                      int64\nLowDoc                         int64\nChgOffDate                    object\nDisbursementDate      datetime64[ns]\nDisbursementGross            float64\nBalanceGross                 float64\nMIS_Status                    object\nChgOffPrinGr                 float64\nGrAppv                       float64\nSBA_Appv                     float64\nIndustry                      object\nIsFranchise                  float64\nNewBusiness                  float64\nDefault                        int64\nDaysToDisbursement             int64\nDisbursementFY                 int64\nStateSame                      int64\nSBA_AppvPct                  float64\nAppvDisbursed                  int64\ndtype: object"
     },
     "execution_count": 31,
     "metadata": {},
     "output_type": "execute_result"
    }
   ],
   "source": [
    "df_copy.dtypes"
   ]
  },
  {
   "cell_type": "code",
   "execution_count": 32,
   "metadata": {
    "pycharm": {
     "name": "#%%\n"
    }
   },
   "outputs": [
    {
     "data": {
      "text/plain": "LoanNr_ChkDgt                  int64\nName                          object\nCity                          object\nState                         object\nZip                           object\nBank                          object\nBankState                     object\nNAICS                          int64\nApprovalDate          datetime64[ns]\nApprovalFY                     int64\nTerm                           int64\nNoEmp                          int64\nNewExist                       int64\nCreateJob                      int64\nRetainedJob                    int64\nFranchiseCode                  int64\nUrbanRural                    object\nRevLineCr                      int64\nLowDoc                         int64\nChgOffDate                    object\nDisbursementDate      datetime64[ns]\nDisbursementGross            float64\nBalanceGross                 float64\nMIS_Status                    object\nChgOffPrinGr                 float64\nGrAppv                       float64\nSBA_Appv                     float64\nIndustry                      object\nIsFranchise                    int64\nNewBusiness                    int64\nDefault                        int64\nDaysToDisbursement             int64\nDisbursementFY                 int64\nStateSame                      int64\nSBA_AppvPct                  float64\nAppvDisbursed                  int64\ndtype: object"
     },
     "execution_count": 32,
     "metadata": {},
     "output_type": "execute_result"
    }
   ],
   "source": [
    "df_copy = df_copy.astype({'IsFranchise': 'int64', 'NewBusiness': 'int64'})\n",
    "df_copy.dtypes"
   ]
  },
  {
   "cell_type": "code",
   "execution_count": 33,
   "metadata": {
    "pycharm": {
     "name": "#%%\n"
    }
   },
   "outputs": [],
   "source": [
    "df_copy.drop(columns=['LoanNr_ChkDgt', 'Name', 'City', 'Zip', 'Bank', 'NAICS', 'ApprovalDate', 'NewExist', 'FranchiseCode','ChgOffDate', 'DisbursementDate',\n",
    "                      'BalanceGross', 'ChgOffPrinGr', 'SBA_Appv', 'MIS_Status'], inplace=True)"
   ]
  },
  {
   "cell_type": "code",
   "execution_count": 34,
   "outputs": [
    {
     "name": "stdout",
     "output_type": "stream",
     "text": [
      "State                 0\n",
      "BankState             0\n",
      "ApprovalFY            0\n",
      "Term                  0\n",
      "NoEmp                 0\n",
      "CreateJob             0\n",
      "RetainedJob           0\n",
      "UrbanRural            0\n",
      "RevLineCr             0\n",
      "LowDoc                0\n",
      "DisbursementGross     0\n",
      "GrAppv                0\n",
      "Industry              0\n",
      "IsFranchise           0\n",
      "NewBusiness           0\n",
      "Default               0\n",
      "DaysToDisbursement    0\n",
      "DisbursementFY        0\n",
      "StateSame             0\n",
      "SBA_AppvPct           0\n",
      "AppvDisbursed         0\n",
      "dtype: int64\n"
     ]
    },
    {
     "data": {
      "text/plain": "(456940, 21)"
     },
     "execution_count": 34,
     "metadata": {},
     "output_type": "execute_result"
    }
   ],
   "source": [
    "print(df_copy.isnull().sum())\n",
    "df_copy.shape"
   ],
   "metadata": {
    "collapsed": false,
    "pycharm": {
     "name": "#%%\n"
    }
   }
  },
  {
   "cell_type": "code",
   "execution_count": 35,
   "metadata": {
    "pycharm": {
     "name": "#%%\n"
    }
   },
   "outputs": [
    {
     "data": {
      "text/plain": "  State BankState  ApprovalFY  Term  NoEmp  CreateJob  RetainedJob UrbanRural  \\\n0    IN        OH        1997    84      4          0            0          0   \n1    IN        IN        1997    60      2          0            0          0   \n2    IN        IN        1997   180      7          0            0          0   \n5    CT        DE        1997   120     19          0            0          0   \n7    FL        AL        1997    84      1          0            0          0   \n\n   RevLineCr  LowDoc  ...    GrAppv                  Industry IsFranchise  \\\n0          0       1  ...   60000.0              Retail_trade           0   \n1          0       1  ...   40000.0           Accom/Food_serv           0   \n2          0       0  ...  287000.0  Healthcare/Social_assist           0   \n5          0       0  ...  517000.0             Manufacturing           0   \n7          0       1  ...   45000.0              Other_no_pub           0   \n\n   NewBusiness  Default  DaysToDisbursement  DisbursementFY  StateSame  \\\n0            1        0                 730            1999          0   \n1            1        0                  92            1997          1   \n2            0        0                 306            1997          1   \n5            0        0                 122            1997          0   \n7            1        0                 487            1998          0   \n\n   SBA_AppvPct  AppvDisbursed  \n0         0.80              1  \n1         0.80              1  \n2         0.75              1  \n5         0.75              1  \n7         0.80              1  \n\n[5 rows x 21 columns]",
      "text/html": "<div>\n<style scoped>\n    .dataframe tbody tr th:only-of-type {\n        vertical-align: middle;\n    }\n\n    .dataframe tbody tr th {\n        vertical-align: top;\n    }\n\n    .dataframe thead th {\n        text-align: right;\n    }\n</style>\n<table border=\"1\" class=\"dataframe\">\n  <thead>\n    <tr style=\"text-align: right;\">\n      <th></th>\n      <th>State</th>\n      <th>BankState</th>\n      <th>ApprovalFY</th>\n      <th>Term</th>\n      <th>NoEmp</th>\n      <th>CreateJob</th>\n      <th>RetainedJob</th>\n      <th>UrbanRural</th>\n      <th>RevLineCr</th>\n      <th>LowDoc</th>\n      <th>...</th>\n      <th>GrAppv</th>\n      <th>Industry</th>\n      <th>IsFranchise</th>\n      <th>NewBusiness</th>\n      <th>Default</th>\n      <th>DaysToDisbursement</th>\n      <th>DisbursementFY</th>\n      <th>StateSame</th>\n      <th>SBA_AppvPct</th>\n      <th>AppvDisbursed</th>\n    </tr>\n  </thead>\n  <tbody>\n    <tr>\n      <th>0</th>\n      <td>IN</td>\n      <td>OH</td>\n      <td>1997</td>\n      <td>84</td>\n      <td>4</td>\n      <td>0</td>\n      <td>0</td>\n      <td>0</td>\n      <td>0</td>\n      <td>1</td>\n      <td>...</td>\n      <td>60000.0</td>\n      <td>Retail_trade</td>\n      <td>0</td>\n      <td>1</td>\n      <td>0</td>\n      <td>730</td>\n      <td>1999</td>\n      <td>0</td>\n      <td>0.80</td>\n      <td>1</td>\n    </tr>\n    <tr>\n      <th>1</th>\n      <td>IN</td>\n      <td>IN</td>\n      <td>1997</td>\n      <td>60</td>\n      <td>2</td>\n      <td>0</td>\n      <td>0</td>\n      <td>0</td>\n      <td>0</td>\n      <td>1</td>\n      <td>...</td>\n      <td>40000.0</td>\n      <td>Accom/Food_serv</td>\n      <td>0</td>\n      <td>1</td>\n      <td>0</td>\n      <td>92</td>\n      <td>1997</td>\n      <td>1</td>\n      <td>0.80</td>\n      <td>1</td>\n    </tr>\n    <tr>\n      <th>2</th>\n      <td>IN</td>\n      <td>IN</td>\n      <td>1997</td>\n      <td>180</td>\n      <td>7</td>\n      <td>0</td>\n      <td>0</td>\n      <td>0</td>\n      <td>0</td>\n      <td>0</td>\n      <td>...</td>\n      <td>287000.0</td>\n      <td>Healthcare/Social_assist</td>\n      <td>0</td>\n      <td>0</td>\n      <td>0</td>\n      <td>306</td>\n      <td>1997</td>\n      <td>1</td>\n      <td>0.75</td>\n      <td>1</td>\n    </tr>\n    <tr>\n      <th>5</th>\n      <td>CT</td>\n      <td>DE</td>\n      <td>1997</td>\n      <td>120</td>\n      <td>19</td>\n      <td>0</td>\n      <td>0</td>\n      <td>0</td>\n      <td>0</td>\n      <td>0</td>\n      <td>...</td>\n      <td>517000.0</td>\n      <td>Manufacturing</td>\n      <td>0</td>\n      <td>0</td>\n      <td>0</td>\n      <td>122</td>\n      <td>1997</td>\n      <td>0</td>\n      <td>0.75</td>\n      <td>1</td>\n    </tr>\n    <tr>\n      <th>7</th>\n      <td>FL</td>\n      <td>AL</td>\n      <td>1997</td>\n      <td>84</td>\n      <td>1</td>\n      <td>0</td>\n      <td>0</td>\n      <td>0</td>\n      <td>0</td>\n      <td>1</td>\n      <td>...</td>\n      <td>45000.0</td>\n      <td>Other_no_pub</td>\n      <td>0</td>\n      <td>1</td>\n      <td>0</td>\n      <td>487</td>\n      <td>1998</td>\n      <td>0</td>\n      <td>0.80</td>\n      <td>1</td>\n    </tr>\n  </tbody>\n</table>\n<p>5 rows × 21 columns</p>\n</div>"
     },
     "execution_count": 35,
     "metadata": {},
     "output_type": "execute_result"
    }
   ],
   "source": [
    "df_copy.head()"
   ]
  },
  {
   "cell_type": "code",
   "execution_count": 36,
   "metadata": {
    "pycharm": {
     "name": "#%%\n"
    }
   },
   "outputs": [
    {
     "data": {
      "text/plain": "<Figure size 432x288 with 1 Axes>",
      "image/png": "[encoded data removed]"
     },
     "metadata": {
      "needs_background": "light"
     },
     "output_type": "display_data"
    }
   ],
   "source": [
    "df_copy['Default'].value_counts()\n",
    "plt.bar(['0','1'],df_copy['Default'].value_counts())\n",
    "plt.show()"
   ]
  },
  {
   "cell_type": "code",
   "execution_count": 37,
   "metadata": {
    "pycharm": {
     "name": "#%%\n"
    }
   },
   "outputs": [
    {
     "data": {
      "text/plain": "         State BankState     ApprovalFY           Term          NoEmp  \\\ncount   456940    456940  456940.000000  456940.000000  456940.000000   \nunique      51        54            NaN            NaN            NaN   \ntop         CA        NC            NaN            NaN            NaN   \nfreq     61387     56407            NaN            NaN            NaN   \nmean       NaN       NaN    2003.020642      93.811706       9.895455   \nstd        NaN       NaN       5.657087      68.362394      56.807480   \nmin        NaN       NaN    1984.000000       0.000000       0.000000   \n25%        NaN       NaN    2000.000000      59.000000       2.000000   \n50%        NaN       NaN    2005.000000      84.000000       4.000000   \n75%        NaN       NaN    2007.000000      90.000000       9.000000   \nmax        NaN       NaN    2014.000000     527.000000    9999.000000   \n\n            CreateJob    RetainedJob UrbanRural      RevLineCr         LowDoc  \\\ncount   456940.000000  456940.000000     456940  456940.000000  456940.000000   \nunique            NaN            NaN          3            NaN            NaN   \ntop               NaN            NaN          1            NaN            NaN   \nfreq              NaN            NaN     285558            NaN            NaN   \nmean         1.896610       4.782175        NaN       0.420053       0.054937   \nstd         16.277406      15.697409        NaN       0.493568       0.227858   \nmin          0.000000       0.000000        NaN       0.000000       0.000000   \n25%          0.000000       0.000000        NaN       0.000000       0.000000   \n50%          0.000000       1.000000        NaN       0.000000       0.000000   \n75%          1.000000       5.000000        NaN       1.000000       0.000000   \nmax       5621.000000    4441.000000        NaN       1.000000       1.000000   \n\n        ...        GrAppv      Industry    IsFranchise    NewBusiness  \\\ncount   ...  4.569400e+05        456940  456940.000000  456940.000000   \nunique  ...           NaN            20            NaN            NaN   \ntop     ...           NaN  Retail_trade            NaN            NaN   \nfreq    ...           NaN         80952            NaN            NaN   \nmean    ...  1.542110e+05           NaN       0.031214       0.265061   \nstd     ...  2.613271e+05           NaN       0.173896       0.441366   \nmin     ...  1.000000e+03           NaN       0.000000       0.000000   \n25%     ...  2.500000e+04           NaN       0.000000       0.000000   \n50%     ...  5.000000e+04           NaN       0.000000       0.000000   \n75%     ...  1.570000e+05           NaN       0.000000       1.000000   \nmax     ...  5.000000e+06           NaN       1.000000       1.000000   \n\n              Default  DaysToDisbursement  DisbursementFY      StateSame  \\\ncount   456940.000000       456940.000000   456940.000000  456940.000000   \nunique            NaN                 NaN             NaN            NaN   \ntop               NaN                 NaN             NaN            NaN   \nfreq              NaN                 NaN             NaN            NaN   \nmean         0.215306          108.578463     2003.063249       0.456872   \nstd          0.411035          190.739346        5.575671       0.498137   \nmin          0.000000        -3614.000000     1984.000000       0.000000   \n25%          0.000000           26.000000     2000.000000       0.000000   \n50%          0.000000           49.000000     2005.000000       0.000000   \n75%          0.000000          108.000000     2007.000000       1.000000   \nmax          1.000000         9132.000000     2028.000000       1.000000   \n\n          SBA_AppvPct  AppvDisbursed  \ncount   456940.000000  456940.000000  \nunique            NaN            NaN  \ntop               NaN            NaN  \nfreq              NaN            NaN  \nmean         0.652474       0.636589  \nstd          0.179334       0.480982  \nmin          0.050000       0.000000  \n25%          0.500000       0.000000  \n50%          0.500000       1.000000  \n75%          0.819209       1.000000  \nmax          1.000000       1.000000  \n\n[11 rows x 21 columns]",
      "text/html": "<div>\n<style scoped>\n    .dataframe tbody tr th:only-of-type {\n        vertical-align: middle;\n    }\n\n    .dataframe tbody tr th {\n        vertical-align: top;\n    }\n\n    .dataframe thead th {\n        text-align: right;\n    }\n</style>\n<table border=\"1\" class=\"dataframe\">\n  <thead>\n    <tr style=\"text-align: right;\">\n      <th></th>\n      <th>State</th>\n      <th>BankState</th>\n      <th>ApprovalFY</th>\n      <th>Term</th>\n      <th>NoEmp</th>\n      <th>CreateJob</th>\n      <th>RetainedJob</th>\n      <th>UrbanRural</th>\n      <th>RevLineCr</th>\n      <th>LowDoc</th>\n      <th>...</th>\n      <th>GrAppv</th>\n      <th>Industry</th>\n      <th>IsFranchise</th>\n      <th>NewBusiness</th>\n      <th>Default</th>\n      <th>DaysToDisbursement</th>\n      <th>DisbursementFY</th>\n      <th>StateSame</th>\n      <th>SBA_AppvPct</th>\n      <th>AppvDisbursed</th>\n    </tr>\n  </thead>\n  <tbody>\n    <tr>\n      <th>count</th>\n      <td>456940</td>\n      <td>456940</td>\n      <td>456940.000000</td>\n      <td>456940.000000</td>\n      <td>456940.000000</td>\n      <td>456940.000000</td>\n      <td>456940.000000</td>\n      <td>456940</td>\n      <td>456940.000000</td>\n      <td>456940.000000</td>\n      <td>...</td>\n      <td>4.569400e+05</td>\n      <td>456940</td>\n      <td>456940.000000</td>\n      <td>456940.000000</td>\n      <td>456940.000000</td>\n      <td>456940.000000</td>\n      <td>456940.000000</td>\n      <td>456940.000000</td>\n      <td>456940.000000</td>\n      <td>456940.000000</td>\n    </tr>\n    <tr>\n      <th>unique</th>\n      <td>51</td>\n      <td>54</td>\n      <td>NaN</td>\n      <td>NaN</td>\n      <td>NaN</td>\n      <td>NaN</td>\n      <td>NaN</td>\n      <td>3</td>\n      <td>NaN</td>\n      <td>NaN</td>\n      <td>...</td>\n      <td>NaN</td>\n      <td>20</td>\n      <td>NaN</td>\n      <td>NaN</td>\n      <td>NaN</td>\n      <td>NaN</td>\n      <td>NaN</td>\n      <td>NaN</td>\n      <td>NaN</td>\n      <td>NaN</td>\n    </tr>\n    <tr>\n      <th>top</th>\n      <td>CA</td>\n      <td>NC</td>\n      <td>NaN</td>\n      <td>NaN</td>\n      <td>NaN</td>\n      <td>NaN</td>\n      <td>NaN</td>\n      <td>1</td>\n      <td>NaN</td>\n      <td>NaN</td>\n      <td>...</td>\n      <td>NaN</td>\n      <td>Retail_trade</td>\n      <td>NaN</td>\n      <td>NaN</td>\n      <td>NaN</td>\n      <td>NaN</td>\n      <td>NaN</td>\n      <td>NaN</td>\n      <td>NaN</td>\n      <td>NaN</td>\n    </tr>\n    <tr>\n      <th>freq</th>\n      <td>61387</td>\n      <td>56407</td>\n      <td>NaN</td>\n      <td>NaN</td>\n      <td>NaN</td>\n      <td>NaN</td>\n      <td>NaN</td>\n      <td>285558</td>\n      <td>NaN</td>\n      <td>NaN</td>\n      <td>...</td>\n      <td>NaN</td>\n      <td>80952</td>\n      <td>NaN</td>\n      <td>NaN</td>\n      <td>NaN</td>\n      <td>NaN</td>\n      <td>NaN</td>\n      <td>NaN</td>\n      <td>NaN</td>\n      <td>NaN</td>\n    </tr>\n    <tr>\n      <th>mean</th>\n      <td>NaN</td>\n      <td>NaN</td>\n      <td>2003.020642</td>\n      <td>93.811706</td>\n      <td>9.895455</td>\n      <td>1.896610</td>\n      <td>4.782175</td>\n      <td>NaN</td>\n      <td>0.420053</td>\n      <td>0.054937</td>\n      <td>...</td>\n      <td>1.542110e+05</td>\n      <td>NaN</td>\n      <td>0.031214</td>\n      <td>0.265061</td>\n      <td>0.215306</td>\n      <td>108.578463</td>\n      <td>2003.063249</td>\n      <td>0.456872</td>\n      <td>0.652474</td>\n      <td>0.636589</td>\n    </tr>\n    <tr>\n      <th>std</th>\n      <td>NaN</td>\n      <td>NaN</td>\n      <td>5.657087</td>\n      <td>68.362394</td>\n      <td>56.807480</td>\n      <td>16.277406</td>\n      <td>15.697409</td>\n      <td>NaN</td>\n      <td>0.493568</td>\n      <td>0.227858</td>\n      <td>...</td>\n      <td>2.613271e+05</td>\n      <td>NaN</td>\n      <td>0.173896</td>\n      <td>0.441366</td>\n      <td>0.411035</td>\n      <td>190.739346</td>\n      <td>5.575671</td>\n      <td>0.498137</td>\n      <td>0.179334</td>\n      <td>0.480982</td>\n    </tr>\n    <tr>\n      <th>min</th>\n      <td>NaN</td>\n      <td>NaN</td>\n      <td>1984.000000</td>\n      <td>0.000000</td>\n      <td>0.000000</td>\n      <td>0.000000</td>\n      <td>0.000000</td>\n      <td>NaN</td>\n      <td>0.000000</td>\n      <td>0.000000</td>\n      <td>...</td>\n      <td>1.000000e+03</td>\n      <td>NaN</td>\n      <td>0.000000</td>\n      <td>0.000000</td>\n      <td>0.000000</td>\n      <td>-3614.000000</td>\n      <td>1984.000000</td>\n      <td>0.000000</td>\n      <td>0.050000</td>\n      <td>0.000000</td>\n    </tr>\n    <tr>\n      <th>25%</th>\n      <td>NaN</td>\n      <td>NaN</td>\n      <td>2000.000000</td>\n      <td>59.000000</td>\n      <td>2.000000</td>\n      <td>0.000000</td>\n      <td>0.000000</td>\n      <td>NaN</td>\n      <td>0.000000</td>\n      <td>0.000000</td>\n      <td>...</td>\n      <td>2.500000e+04</td>\n      <td>NaN</td>\n      <td>0.000000</td>\n      <td>0.000000</td>\n      <td>0.000000</td>\n      <td>26.000000</td>\n      <td>2000.000000</td>\n      <td>0.000000</td>\n      <td>0.500000</td>\n      <td>0.000000</td>\n    </tr>\n    <tr>\n      <th>50%</th>\n      <td>NaN</td>\n      <td>NaN</td>\n      <td>2005.000000</td>\n      <td>84.000000</td>\n      <td>4.000000</td>\n      <td>0.000000</td>\n      <td>1.000000</td>\n      <td>NaN</td>\n      <td>0.000000</td>\n      <td>0.000000</td>\n      <td>...</td>\n      <td>5.000000e+04</td>\n      <td>NaN</td>\n      <td>0.000000</td>\n      <td>0.000000</td>\n      <td>0.000000</td>\n      <td>49.000000</td>\n      <td>2005.000000</td>\n      <td>0.000000</td>\n      <td>0.500000</td>\n      <td>1.000000</td>\n    </tr>\n    <tr>\n      <th>75%</th>\n      <td>NaN</td>\n      <td>NaN</td>\n      <td>2007.000000</td>\n      <td>90.000000</td>\n      <td>9.000000</td>\n      <td>1.000000</td>\n      <td>5.000000</td>\n      <td>NaN</td>\n      <td>1.000000</td>\n      <td>0.000000</td>\n      <td>...</td>\n      <td>1.570000e+05</td>\n      <td>NaN</td>\n      <td>0.000000</td>\n      <td>1.000000</td>\n      <td>0.000000</td>\n      <td>108.000000</td>\n      <td>2007.000000</td>\n      <td>1.000000</td>\n      <td>0.819209</td>\n      <td>1.000000</td>\n    </tr>\n    <tr>\n      <th>max</th>\n      <td>NaN</td>\n      <td>NaN</td>\n      <td>2014.000000</td>\n      <td>527.000000</td>\n      <td>9999.000000</td>\n      <td>5621.000000</td>\n      <td>4441.000000</td>\n      <td>NaN</td>\n      <td>1.000000</td>\n      <td>1.000000</td>\n      <td>...</td>\n      <td>5.000000e+06</td>\n      <td>NaN</td>\n      <td>1.000000</td>\n      <td>1.000000</td>\n      <td>1.000000</td>\n      <td>9132.000000</td>\n      <td>2028.000000</td>\n      <td>1.000000</td>\n      <td>1.000000</td>\n      <td>1.000000</td>\n    </tr>\n  </tbody>\n</table>\n<p>11 rows × 21 columns</p>\n</div>"
     },
     "execution_count": 37,
     "metadata": {},
     "output_type": "execute_result"
    }
   ],
   "source": [
    "df_copy.describe()"
   ]
  },
  {
   "cell_type": "code",
   "execution_count": 38,
   "metadata": {
    "pycharm": {
     "name": "#%%\n"
    }
   },
   "outputs": [
    {
     "data": {
      "text/plain": "<Figure size 1224x936 with 2 Axes>",
      "image/png": "[encoded data removed]"
     },
     "metadata": {
      "needs_background": "light"
     },
     "output_type": "display_data"
    }
   ],
   "source": [
    "corr_f, corr_x = plt.subplots(figsize=(17, 13))\n",
    "corr_mx = df_copy.corr()\n",
    "corr_x_ax = sns.heatmap(corr_mx, annot=True)\n",
    "plt.xticks()\n",
    "plt.yticks()\n",
    "\n",
    "plt.show()"
   ]
  },
  {
   "cell_type": "code",
   "execution_count": 39,
   "metadata": {
    "pycharm": {
     "name": "#%%\n"
    }
   },
   "outputs": [],
   "source": [
    "df_copy.to_csv('/Users/wangzhuli/Desktop/Programing/pythonProject/venv/SBAnational_preprocessed.csv')"
   ]
  },
  {
   "cell_type": "code",
   "execution_count": 40,
   "metadata": {
    "pycharm": {
     "name": "#%%\n"
    }
   },
   "outputs": [
    {
     "data": {
      "text/plain": "   ApprovalFY  Term  NoEmp  CreateJob  RetainedJob  RevLineCr  LowDoc  \\\n0        1997    84      4          0            0          0       1   \n1        1997    60      2          0            0          0       1   \n2        1997   180      7          0            0          0       0   \n5        1997   120     19          0            0          0       0   \n7        1997    84      1          0            0          0       1   \n\n   DisbursementGross    GrAppv  IsFranchise  ...  Industry_Mgmt_comp  \\\n0            60000.0   60000.0            0  ...                   0   \n1            40000.0   40000.0            0  ...                   0   \n2           287000.0  287000.0            0  ...                   0   \n5           517000.0  517000.0            0  ...                   0   \n7            45000.0   45000.0            0  ...                   0   \n\n   Industry_Min/Quar/Oil_Gas_ext  Industry_Other_no_pub  \\\n0                              0                      0   \n1                              0                      0   \n2                              0                      0   \n5                              0                      0   \n7                              0                      1   \n\n   Industry_Prof/Science/Tech  Industry_Public_Admin  \\\n0                           0                      0   \n1                           0                      0   \n2                           0                      0   \n5                           0                      0   \n7                           0                      0   \n\n   Industry_RE/Rental/Lease  Industry_Retail_trade  Industry_Trans/Ware  \\\n0                         0                      1                    0   \n1                         0                      0                    0   \n2                         0                      0                    0   \n5                         0                      0                    0   \n7                         0                      0                    0   \n\n   Industry_Utilities  Industry_Wholesale_trade  \n0                   0                         0  \n1                   0                         0  \n2                   0                         0  \n5                   0                         0  \n7                   0                         0  \n\n[5 rows x 145 columns]",
      "text/html": "<div>\n<style scoped>\n    .dataframe tbody tr th:only-of-type {\n        vertical-align: middle;\n    }\n\n    .dataframe tbody tr th {\n        vertical-align: top;\n    }\n\n    .dataframe thead th {\n        text-align: right;\n    }\n</style>\n<table border=\"1\" class=\"dataframe\">\n  <thead>\n    <tr style=\"text-align: right;\">\n      <th></th>\n      <th>ApprovalFY</th>\n      <th>Term</th>\n      <th>NoEmp</th>\n      <th>CreateJob</th>\n      <th>RetainedJob</th>\n      <th>RevLineCr</th>\n      <th>LowDoc</th>\n      <th>DisbursementGross</th>\n      <th>GrAppv</th>\n      <th>IsFranchise</th>\n      <th>...</th>\n      <th>Industry_Mgmt_comp</th>\n      <th>Industry_Min/Quar/Oil_Gas_ext</th>\n      <th>Industry_Other_no_pub</th>\n      <th>Industry_Prof/Science/Tech</th>\n      <th>Industry_Public_Admin</th>\n      <th>Industry_RE/Rental/Lease</th>\n      <th>Industry_Retail_trade</th>\n      <th>Industry_Trans/Ware</th>\n      <th>Industry_Utilities</th>\n      <th>Industry_Wholesale_trade</th>\n    </tr>\n  </thead>\n  <tbody>\n    <tr>\n      <th>0</th>\n      <td>1997</td>\n      <td>84</td>\n      <td>4</td>\n      <td>0</td>\n      <td>0</td>\n      <td>0</td>\n      <td>1</td>\n      <td>60000.0</td>\n      <td>60000.0</td>\n      <td>0</td>\n      <td>...</td>\n      <td>0</td>\n      <td>0</td>\n      <td>0</td>\n      <td>0</td>\n      <td>0</td>\n      <td>0</td>\n      <td>1</td>\n      <td>0</td>\n      <td>0</td>\n      <td>0</td>\n    </tr>\n    <tr>\n      <th>1</th>\n      <td>1997</td>\n      <td>60</td>\n      <td>2</td>\n      <td>0</td>\n      <td>0</td>\n      <td>0</td>\n      <td>1</td>\n      <td>40000.0</td>\n      <td>40000.0</td>\n      <td>0</td>\n      <td>...</td>\n      <td>0</td>\n      <td>0</td>\n      <td>0</td>\n      <td>0</td>\n      <td>0</td>\n      <td>0</td>\n      <td>0</td>\n      <td>0</td>\n      <td>0</td>\n      <td>0</td>\n    </tr>\n    <tr>\n      <th>2</th>\n      <td>1997</td>\n      <td>180</td>\n      <td>7</td>\n      <td>0</td>\n      <td>0</td>\n      <td>0</td>\n      <td>0</td>\n      <td>287000.0</td>\n      <td>287000.0</td>\n      <td>0</td>\n      <td>...</td>\n      <td>0</td>\n      <td>0</td>\n      <td>0</td>\n      <td>0</td>\n      <td>0</td>\n      <td>0</td>\n      <td>0</td>\n      <td>0</td>\n      <td>0</td>\n      <td>0</td>\n    </tr>\n    <tr>\n      <th>5</th>\n      <td>1997</td>\n      <td>120</td>\n      <td>19</td>\n      <td>0</td>\n      <td>0</td>\n      <td>0</td>\n      <td>0</td>\n      <td>517000.0</td>\n      <td>517000.0</td>\n      <td>0</td>\n      <td>...</td>\n      <td>0</td>\n      <td>0</td>\n      <td>0</td>\n      <td>0</td>\n      <td>0</td>\n      <td>0</td>\n      <td>0</td>\n      <td>0</td>\n      <td>0</td>\n      <td>0</td>\n    </tr>\n    <tr>\n      <th>7</th>\n      <td>1997</td>\n      <td>84</td>\n      <td>1</td>\n      <td>0</td>\n      <td>0</td>\n      <td>0</td>\n      <td>1</td>\n      <td>45000.0</td>\n      <td>45000.0</td>\n      <td>0</td>\n      <td>...</td>\n      <td>0</td>\n      <td>0</td>\n      <td>1</td>\n      <td>0</td>\n      <td>0</td>\n      <td>0</td>\n      <td>0</td>\n      <td>0</td>\n      <td>0</td>\n      <td>0</td>\n    </tr>\n  </tbody>\n</table>\n<p>5 rows × 145 columns</p>\n</div>"
     },
     "execution_count": 40,
     "metadata": {},
     "output_type": "execute_result"
    }
   ],
   "source": [
    "df_copy = pd.get_dummies(df_copy)\n",
    "\n",
    "df_copy.head()"
   ]
  },
  {
   "cell_type": "code",
   "execution_count": 41,
   "outputs": [],
   "source": [
    "y = df_copy['Default']\n",
    "X = df_copy.drop('Default', axis=1)"
   ],
   "metadata": {
    "collapsed": false,
    "pycharm": {
     "name": "#%%\n"
    }
   }
  },
  {
   "cell_type": "code",
   "execution_count": 42,
   "outputs": [],
   "source": [
    "# Scale the feature values prior to modeling\n",
    "scale = StandardScaler()\n",
    "X_scaled = scale.fit_transform(X)\n",
    "X_train, X_val, y_train, y_val = train_test_split(X_scaled, y, test_size=0.25)"
   ],
   "metadata": {
    "collapsed": false,
    "pycharm": {
     "name": "#%%\n"
    }
   }
  },
  {
   "cell_type": "markdown",
   "metadata": {
    "pycharm": {
     "name": "#%% md\n"
    }
   },
   "source": [
    "LogisticRegression"
   ]
  },
  {
   "cell_type": "code",
   "execution_count": 194,
   "metadata": {
    "pycharm": {
     "name": "#%%\n"
    }
   },
   "outputs": [
    {
     "name": "stdout",
     "output_type": "stream",
     "text": [
      "              precision    recall  f1-score   support\n",
      "\n",
      "           0      0.887     0.954     0.919     89672\n",
      "           1      0.770     0.556     0.645     24563\n",
      "\n",
      "    accuracy                          0.869    114235\n",
      "   macro avg      0.828     0.755     0.782    114235\n",
      "weighted avg      0.862     0.869     0.861    114235\n",
      "\n"
     ]
    },
    {
     "data": {
      "text/plain": "<Figure size 432x288 with 2 Axes>",
      "image/png": "[encoded data removed]"
     },
     "metadata": {
      "needs_background": "light"
     },
     "output_type": "display_data"
    }
   ],
   "source": [
    "# Initialize model\n",
    "log_reg = LogisticRegression()\n",
    "\n",
    "# Train the model and make predictions\n",
    "log_reg.fit(X_train, y_train)\n",
    "y_logpred = log_reg.predict(X_val)\n",
    "\n",
    "# Print the results\n",
    "print(classification_report(y_val, y_logpred, digits=3))\n",
    "cm_log = confusion_matrix(y_val, y_logpred)\n",
    "f_log = sns.heatmap(cm_log, annot=True, fmt='d')"
   ]
  },
  {
   "cell_type": "code",
   "execution_count": 195,
   "outputs": [
    {
     "data": {
      "text/plain": "<Figure size 432x288 with 1 Axes>",
      "image/png": "[encoded data removed]"
     },
     "metadata": {
      "needs_background": "light"
     },
     "output_type": "display_data"
    }
   ],
   "source": [
    "fpr, tpr, _ = metrics.roc_curve(y_val,  y_logpred)\n",
    "auc = metrics.roc_auc_score(y_val, y_logpred)\n",
    "\n",
    "plt.plot(fpr,tpr,label=\"AUC=\"+str(auc))\n",
    "plt.ylabel('True Positive Rate')\n",
    "plt.xlabel('False Positive Rate')\n",
    "plt.legend(loc=4)\n",
    "plt.show()"
   ],
   "metadata": {
    "collapsed": false,
    "pycharm": {
     "name": "#%%\n"
    }
   }
  },
  {
   "cell_type": "markdown",
   "source": [
    "LR Tuning"
   ],
   "metadata": {
    "collapsed": false,
    "pycharm": {
     "name": "#%% md\n"
    }
   }
  },
  {
   "cell_type": "code",
   "execution_count": 167,
   "outputs": [
    {
     "name": "stderr",
     "output_type": "stream",
     "text": [
      "/Users/wangzhuli/Desktop/Programing/pythonProject/venv/lib/python3.10/site-packages/sklearn/linear_model/_logistic.py:1113: UserWarning: Setting penalty='none' will ignore the C and l1_ratio parameters\n",
      "  warnings.warn(\n",
      "/Users/wangzhuli/Desktop/Programing/pythonProject/venv/lib/python3.10/site-packages/sklearn/linear_model/_logistic.py:1113: UserWarning: Setting penalty='none' will ignore the C and l1_ratio parameters\n",
      "  warnings.warn(\n",
      "/Users/wangzhuli/Desktop/Programing/pythonProject/venv/lib/python3.10/site-packages/sklearn/linear_model/_logistic.py:1113: UserWarning: Setting penalty='none' will ignore the C and l1_ratio parameters\n",
      "  warnings.warn(\n",
      "/Users/wangzhuli/Desktop/Programing/pythonProject/venv/lib/python3.10/site-packages/sklearn/linear_model/_logistic.py:1113: UserWarning: Setting penalty='none' will ignore the C and l1_ratio parameters\n",
      "  warnings.warn(\n",
      "/Users/wangzhuli/Desktop/Programing/pythonProject/venv/lib/python3.10/site-packages/sklearn/linear_model/_logistic.py:1113: UserWarning: Setting penalty='none' will ignore the C and l1_ratio parameters\n",
      "  warnings.warn(\n",
      "/Users/wangzhuli/Desktop/Programing/pythonProject/venv/lib/python3.10/site-packages/sklearn/linear_model/_logistic.py:1113: UserWarning: Setting penalty='none' will ignore the C and l1_ratio parameters\n",
      "  warnings.warn(\n",
      "/Users/wangzhuli/Desktop/Programing/pythonProject/venv/lib/python3.10/site-packages/sklearn/linear_model/_logistic.py:1113: UserWarning: Setting penalty='none' will ignore the C and l1_ratio parameters\n",
      "  warnings.warn(\n",
      "/Users/wangzhuli/Desktop/Programing/pythonProject/venv/lib/python3.10/site-packages/sklearn/linear_model/_logistic.py:1113: UserWarning: Setting penalty='none' will ignore the C and l1_ratio parameters\n",
      "  warnings.warn(\n",
      "/Users/wangzhuli/Desktop/Programing/pythonProject/venv/lib/python3.10/site-packages/sklearn/linear_model/_logistic.py:1113: UserWarning: Setting penalty='none' will ignore the C and l1_ratio parameters\n",
      "  warnings.warn(\n",
      "/Users/wangzhuli/Desktop/Programing/pythonProject/venv/lib/python3.10/site-packages/sklearn/linear_model/_logistic.py:1113: UserWarning: Setting penalty='none' will ignore the C and l1_ratio parameters\n",
      "  warnings.warn(\n",
      "/Users/wangzhuli/Desktop/Programing/pythonProject/venv/lib/python3.10/site-packages/sklearn/linear_model/_logistic.py:1113: UserWarning: Setting penalty='none' will ignore the C and l1_ratio parameters\n",
      "  warnings.warn(\n",
      "/Users/wangzhuli/Desktop/Programing/pythonProject/venv/lib/python3.10/site-packages/sklearn/linear_model/_logistic.py:1113: UserWarning: Setting penalty='none' will ignore the C and l1_ratio parameters\n",
      "  warnings.warn(\n",
      "/Users/wangzhuli/Desktop/Programing/pythonProject/venv/lib/python3.10/site-packages/sklearn/linear_model/_logistic.py:1113: UserWarning: Setting penalty='none' will ignore the C and l1_ratio parameters\n",
      "  warnings.warn(\n",
      "/Users/wangzhuli/Desktop/Programing/pythonProject/venv/lib/python3.10/site-packages/sklearn/linear_model/_logistic.py:1113: UserWarning: Setting penalty='none' will ignore the C and l1_ratio parameters\n",
      "  warnings.warn(\n",
      "/Users/wangzhuli/Desktop/Programing/pythonProject/venv/lib/python3.10/site-packages/sklearn/linear_model/_logistic.py:1113: UserWarning: Setting penalty='none' will ignore the C and l1_ratio parameters\n",
      "  warnings.warn(\n",
      "/Users/wangzhuli/Desktop/Programing/pythonProject/venv/lib/python3.10/site-packages/sklearn/linear_model/_logistic.py:1113: UserWarning: Setting penalty='none' will ignore the C and l1_ratio parameters\n",
      "  warnings.warn(\n",
      "/Users/wangzhuli/Desktop/Programing/pythonProject/venv/lib/python3.10/site-packages/sklearn/linear_model/_logistic.py:1113: UserWarning: Setting penalty='none' will ignore the C and l1_ratio parameters\n",
      "  warnings.warn(\n",
      "/Users/wangzhuli/Desktop/Programing/pythonProject/venv/lib/python3.10/site-packages/sklearn/linear_model/_logistic.py:1113: UserWarning: Setting penalty='none' will ignore the C and l1_ratio parameters\n",
      "  warnings.warn(\n",
      "/Users/wangzhuli/Desktop/Programing/pythonProject/venv/lib/python3.10/site-packages/sklearn/linear_model/_logistic.py:1113: UserWarning: Setting penalty='none' will ignore the C and l1_ratio parameters\n",
      "  warnings.warn(\n",
      "/Users/wangzhuli/Desktop/Programing/pythonProject/venv/lib/python3.10/site-packages/sklearn/linear_model/_logistic.py:1113: UserWarning: Setting penalty='none' will ignore the C and l1_ratio parameters\n",
      "  warnings.warn(\n",
      "/Users/wangzhuli/Desktop/Programing/pythonProject/venv/lib/python3.10/site-packages/sklearn/linear_model/_logistic.py:1113: UserWarning: Setting penalty='none' will ignore the C and l1_ratio parameters\n",
      "  warnings.warn(\n",
      "/Users/wangzhuli/Desktop/Programing/pythonProject/venv/lib/python3.10/site-packages/sklearn/linear_model/_logistic.py:1113: UserWarning: Setting penalty='none' will ignore the C and l1_ratio parameters\n",
      "  warnings.warn(\n",
      "/Users/wangzhuli/Desktop/Programing/pythonProject/venv/lib/python3.10/site-packages/sklearn/linear_model/_logistic.py:1113: UserWarning: Setting penalty='none' will ignore the C and l1_ratio parameters\n",
      "  warnings.warn(\n",
      "/Users/wangzhuli/Desktop/Programing/pythonProject/venv/lib/python3.10/site-packages/sklearn/linear_model/_logistic.py:1113: UserWarning: Setting penalty='none' will ignore the C and l1_ratio parameters\n",
      "  warnings.warn(\n",
      "/Users/wangzhuli/Desktop/Programing/pythonProject/venv/lib/python3.10/site-packages/sklearn/linear_model/_logistic.py:1113: UserWarning: Setting penalty='none' will ignore the C and l1_ratio parameters\n",
      "  warnings.warn(\n",
      "/Users/wangzhuli/Desktop/Programing/pythonProject/venv/lib/python3.10/site-packages/sklearn/linear_model/_logistic.py:1113: UserWarning: Setting penalty='none' will ignore the C and l1_ratio parameters\n",
      "  warnings.warn(\n",
      "/Users/wangzhuli/Desktop/Programing/pythonProject/venv/lib/python3.10/site-packages/sklearn/linear_model/_logistic.py:1113: UserWarning: Setting penalty='none' will ignore the C and l1_ratio parameters\n",
      "  warnings.warn(\n",
      "/Users/wangzhuli/Desktop/Programing/pythonProject/venv/lib/python3.10/site-packages/sklearn/linear_model/_logistic.py:1113: UserWarning: Setting penalty='none' will ignore the C and l1_ratio parameters\n",
      "  warnings.warn(\n",
      "/Users/wangzhuli/Desktop/Programing/pythonProject/venv/lib/python3.10/site-packages/sklearn/linear_model/_logistic.py:1113: UserWarning: Setting penalty='none' will ignore the C and l1_ratio parameters\n",
      "  warnings.warn(\n",
      "/Users/wangzhuli/Desktop/Programing/pythonProject/venv/lib/python3.10/site-packages/sklearn/linear_model/_logistic.py:1113: UserWarning: Setting penalty='none' will ignore the C and l1_ratio parameters\n",
      "  warnings.warn(\n",
      "/Users/wangzhuli/Desktop/Programing/pythonProject/venv/lib/python3.10/site-packages/sklearn/linear_model/_logistic.py:1113: UserWarning: Setting penalty='none' will ignore the C and l1_ratio parameters\n",
      "  warnings.warn(\n",
      "/Users/wangzhuli/Desktop/Programing/pythonProject/venv/lib/python3.10/site-packages/sklearn/linear_model/_logistic.py:1113: UserWarning: Setting penalty='none' will ignore the C and l1_ratio parameters\n",
      "  warnings.warn(\n",
      "/Users/wangzhuli/Desktop/Programing/pythonProject/venv/lib/python3.10/site-packages/sklearn/linear_model/_logistic.py:1113: UserWarning: Setting penalty='none' will ignore the C and l1_ratio parameters\n",
      "  warnings.warn(\n",
      "/Users/wangzhuli/Desktop/Programing/pythonProject/venv/lib/python3.10/site-packages/sklearn/linear_model/_logistic.py:1113: UserWarning: Setting penalty='none' will ignore the C and l1_ratio parameters\n",
      "  warnings.warn(\n",
      "/Users/wangzhuli/Desktop/Programing/pythonProject/venv/lib/python3.10/site-packages/sklearn/linear_model/_logistic.py:1113: UserWarning: Setting penalty='none' will ignore the C and l1_ratio parameters\n",
      "  warnings.warn(\n",
      "/Users/wangzhuli/Desktop/Programing/pythonProject/venv/lib/python3.10/site-packages/sklearn/linear_model/_logistic.py:1113: UserWarning: Setting penalty='none' will ignore the C and l1_ratio parameters\n",
      "  warnings.warn(\n",
      "/Users/wangzhuli/Desktop/Programing/pythonProject/venv/lib/python3.10/site-packages/sklearn/linear_model/_logistic.py:1113: UserWarning: Setting penalty='none' will ignore the C and l1_ratio parameters\n",
      "  warnings.warn(\n",
      "/Users/wangzhuli/Desktop/Programing/pythonProject/venv/lib/python3.10/site-packages/sklearn/linear_model/_logistic.py:1113: UserWarning: Setting penalty='none' will ignore the C and l1_ratio parameters\n",
      "  warnings.warn(\n",
      "/Users/wangzhuli/Desktop/Programing/pythonProject/venv/lib/python3.10/site-packages/sklearn/linear_model/_logistic.py:1113: UserWarning: Setting penalty='none' will ignore the C and l1_ratio parameters\n",
      "  warnings.warn(\n",
      "/Users/wangzhuli/Desktop/Programing/pythonProject/venv/lib/python3.10/site-packages/sklearn/linear_model/_logistic.py:1113: UserWarning: Setting penalty='none' will ignore the C and l1_ratio parameters\n",
      "  warnings.warn(\n",
      "/Users/wangzhuli/Desktop/Programing/pythonProject/venv/lib/python3.10/site-packages/sklearn/linear_model/_logistic.py:1113: UserWarning: Setting penalty='none' will ignore the C and l1_ratio parameters\n",
      "  warnings.warn(\n",
      "/Users/wangzhuli/Desktop/Programing/pythonProject/venv/lib/python3.10/site-packages/sklearn/linear_model/_logistic.py:1113: UserWarning: Setting penalty='none' will ignore the C and l1_ratio parameters\n",
      "  warnings.warn(\n",
      "/Users/wangzhuli/Desktop/Programing/pythonProject/venv/lib/python3.10/site-packages/sklearn/linear_model/_logistic.py:1113: UserWarning: Setting penalty='none' will ignore the C and l1_ratio parameters\n",
      "  warnings.warn(\n",
      "/Users/wangzhuli/Desktop/Programing/pythonProject/venv/lib/python3.10/site-packages/sklearn/linear_model/_logistic.py:1113: UserWarning: Setting penalty='none' will ignore the C and l1_ratio parameters\n",
      "  warnings.warn(\n",
      "/Users/wangzhuli/Desktop/Programing/pythonProject/venv/lib/python3.10/site-packages/sklearn/linear_model/_logistic.py:1113: UserWarning: Setting penalty='none' will ignore the C and l1_ratio parameters\n",
      "  warnings.warn(\n",
      "/Users/wangzhuli/Desktop/Programing/pythonProject/venv/lib/python3.10/site-packages/sklearn/model_selection/_validation.py:378: FitFailedWarning: \n",
      "50 fits failed out of a total of 150.\n",
      "The score on these train-test partitions for these parameters will be set to nan.\n",
      "If these failures are not expected, you can try to debug them by setting error_score='raise'.\n",
      "\n",
      "Below are more details about the failures:\n",
      "--------------------------------------------------------------------------------\n",
      "50 fits failed with the following error:\n",
      "Traceback (most recent call last):\n",
      "  File \"/Users/wangzhuli/Desktop/Programing/pythonProject/venv/lib/python3.10/site-packages/sklearn/model_selection/_validation.py\", line 686, in _fit_and_score\n",
      "    estimator.fit(X_train, y_train, **fit_params)\n",
      "  File \"/Users/wangzhuli/Desktop/Programing/pythonProject/venv/lib/python3.10/site-packages/sklearn/linear_model/_logistic.py\", line 1091, in fit\n",
      "    solver = _check_solver(self.solver, self.penalty, self.dual)\n",
      "  File \"/Users/wangzhuli/Desktop/Programing/pythonProject/venv/lib/python3.10/site-packages/sklearn/linear_model/_logistic.py\", line 61, in _check_solver\n",
      "    raise ValueError(\n",
      "ValueError: Solver lbfgs supports only 'l2' or 'none' penalties, got l1 penalty.\n",
      "\n",
      "  warnings.warn(some_fits_failed_message, FitFailedWarning)\n",
      "/Users/wangzhuli/Desktop/Programing/pythonProject/venv/lib/python3.10/site-packages/sklearn/model_selection/_search.py:953: UserWarning: One or more of the test scores are non-finite: [       nan 0.86842328 0.86841744        nan 0.86841744 0.86841744\n",
      "        nan 0.86842036 0.86841744        nan 0.86841744 0.86841744\n",
      "        nan 0.86842036 0.86841744        nan 0.86842036 0.86841744\n",
      "        nan 0.86841744 0.86841744        nan 0.86841744 0.86841744\n",
      "        nan 0.86841744 0.86841744        nan 0.86841744 0.86841744]\n",
      "  warnings.warn(\n"
     ]
    },
    {
     "name": "stdout",
     "output_type": "stream",
     "text": [
      "Detail\n",
      "     mean_fit_time  mean_score_time  mean_test_score      param_C  \\\n",
      "0        1.675125         0.000000              NaN          1.0   \n",
      "1        4.042634         0.028232         0.868423          1.0   \n",
      "2        2.870529         0.032610         0.868417          1.0   \n",
      "3        0.113648         0.000000              NaN     2.782559   \n",
      "4        3.307579         0.135882         0.868417     2.782559   \n",
      "5        3.655810         0.068214         0.868417     2.782559   \n",
      "6        0.224644         0.000000              NaN     7.742637   \n",
      "7        3.667542         0.030254         0.868420     7.742637   \n",
      "8        2.902874         0.021145         0.868417     7.742637   \n",
      "9        0.132943         0.000000              NaN    21.544347   \n",
      "10       2.941348         0.013892         0.868417    21.544347   \n",
      "11       2.863872         0.011876         0.868417    21.544347   \n",
      "12       0.124376         0.000000              NaN    59.948425   \n",
      "13       2.915168         0.012814         0.868420    59.948425   \n",
      "14       2.831477         0.014955         0.868417    59.948425   \n",
      "15       0.119777         0.000000              NaN   166.810054   \n",
      "16       2.977539         0.011397         0.868420   166.810054   \n",
      "17       2.899845         0.012279         0.868417   166.810054   \n",
      "18       0.123986         0.000000              NaN   464.158883   \n",
      "19       2.964768         0.012734         0.868417   464.158883   \n",
      "20       2.821222         0.010483         0.868417   464.158883   \n",
      "21       0.128009         0.000000              NaN  1291.549665   \n",
      "22       2.892296         0.011266         0.868417  1291.549665   \n",
      "23       2.888552         0.014528         0.868417  1291.549665   \n",
      "24       0.121819         0.000000              NaN  3593.813664   \n",
      "25       3.177766         0.011834         0.868417  3593.813664   \n",
      "26       2.977183         0.011727         0.868417  3593.813664   \n",
      "27       0.131269         0.000000              NaN      10000.0   \n",
      "28       3.087250         0.017835         0.868417      10000.0   \n",
      "29       2.522767         0.007267         0.868417      10000.0   \n",
      "\n",
      "   param_penalty                                        params  \\\n",
      "0             l1                   {'C': 1.0, 'penalty': 'l1'}   \n",
      "1             l2                   {'C': 1.0, 'penalty': 'l2'}   \n",
      "2           none                 {'C': 1.0, 'penalty': 'none'}   \n",
      "3             l1    {'C': 2.7825594022071245, 'penalty': 'l1'}   \n",
      "4             l2    {'C': 2.7825594022071245, 'penalty': 'l2'}   \n",
      "5           none  {'C': 2.7825594022071245, 'penalty': 'none'}   \n",
      "6             l1     {'C': 7.742636826811269, 'penalty': 'l1'}   \n",
      "7             l2     {'C': 7.742636826811269, 'penalty': 'l2'}   \n",
      "8           none   {'C': 7.742636826811269, 'penalty': 'none'}   \n",
      "9             l1    {'C': 21.544346900318832, 'penalty': 'l1'}   \n",
      "10            l2    {'C': 21.544346900318832, 'penalty': 'l2'}   \n",
      "11          none  {'C': 21.544346900318832, 'penalty': 'none'}   \n",
      "12            l1     {'C': 59.94842503189409, 'penalty': 'l1'}   \n",
      "13            l2     {'C': 59.94842503189409, 'penalty': 'l2'}   \n",
      "14          none   {'C': 59.94842503189409, 'penalty': 'none'}   \n",
      "15            l1    {'C': 166.81005372000593, 'penalty': 'l1'}   \n",
      "16            l2    {'C': 166.81005372000593, 'penalty': 'l2'}   \n",
      "17          none  {'C': 166.81005372000593, 'penalty': 'none'}   \n",
      "18            l1    {'C': 464.15888336127773, 'penalty': 'l1'}   \n",
      "19            l2    {'C': 464.15888336127773, 'penalty': 'l2'}   \n",
      "20          none  {'C': 464.15888336127773, 'penalty': 'none'}   \n",
      "21            l1    {'C': 1291.5496650148827, 'penalty': 'l1'}   \n",
      "22            l2    {'C': 1291.5496650148827, 'penalty': 'l2'}   \n",
      "23          none  {'C': 1291.5496650148827, 'penalty': 'none'}   \n",
      "24            l1     {'C': 3593.813663804626, 'penalty': 'l1'}   \n",
      "25            l2     {'C': 3593.813663804626, 'penalty': 'l2'}   \n",
      "26          none   {'C': 3593.813663804626, 'penalty': 'none'}   \n",
      "27            l1               {'C': 10000.0, 'penalty': 'l1'}   \n",
      "28            l2               {'C': 10000.0, 'penalty': 'l2'}   \n",
      "29          none             {'C': 10000.0, 'penalty': 'none'}   \n",
      "\n",
      "    rank_test_score  split0_test_score  split1_test_score  split2_test_score  \\\n",
      "0                30                NaN                NaN                NaN   \n",
      "1                 1           0.867991           0.868531           0.870486   \n",
      "2                 5           0.867991           0.868487           0.870486   \n",
      "3                27                NaN                NaN                NaN   \n",
      "4                 5           0.867991           0.868487           0.870486   \n",
      "5                 5           0.867991           0.868487           0.870486   \n",
      "6                24                NaN                NaN                NaN   \n",
      "7                 2           0.867991           0.868487           0.870486   \n",
      "8                 5           0.867991           0.868487           0.870486   \n",
      "9                22                NaN                NaN                NaN   \n",
      "10                5           0.867991           0.868487           0.870486   \n",
      "11                5           0.867991           0.868487           0.870486   \n",
      "12               29                NaN                NaN                NaN   \n",
      "13                2           0.867991           0.868487           0.870486   \n",
      "14                5           0.867991           0.868487           0.870486   \n",
      "15               21                NaN                NaN                NaN   \n",
      "16                2           0.867991           0.868487           0.870486   \n",
      "17                5           0.867991           0.868487           0.870486   \n",
      "18               23                NaN                NaN                NaN   \n",
      "19                5           0.867991           0.868487           0.870486   \n",
      "20                5           0.867991           0.868487           0.870486   \n",
      "21               25                NaN                NaN                NaN   \n",
      "22                5           0.867991           0.868487           0.870486   \n",
      "23                5           0.867991           0.868487           0.870486   \n",
      "24               26                NaN                NaN                NaN   \n",
      "25                5           0.867991           0.868487           0.870486   \n",
      "26                5           0.867991           0.868487           0.870486   \n",
      "27               28                NaN                NaN                NaN   \n",
      "28                5           0.867991           0.868487           0.870486   \n",
      "29                5           0.867991           0.868487           0.870486   \n",
      "\n",
      "    split3_test_score  split4_test_score  std_fit_time  std_score_time  \\\n",
      "0                 NaN                NaN      0.043781        0.000000   \n",
      "1            0.866751           0.868356      0.946882        0.008143   \n",
      "2            0.866751           0.868371      0.266240        0.004464   \n",
      "3                 NaN                NaN      0.015830        0.000000   \n",
      "4            0.866766           0.868356      0.208643        0.096074   \n",
      "5            0.866751           0.868371      0.342198        0.050698   \n",
      "6                 NaN                NaN      0.109346        0.000000   \n",
      "7            0.866751           0.868385      0.446854        0.006964   \n",
      "8            0.866751           0.868371      0.249663        0.006054   \n",
      "9                 NaN                NaN      0.012150        0.000000   \n",
      "10           0.866737           0.868385      0.273699        0.003626   \n",
      "11           0.866751           0.868371      0.265222        0.000739   \n",
      "12                NaN                NaN      0.007043        0.000000   \n",
      "13           0.866751           0.868385      0.180712        0.002768   \n",
      "14           0.866751           0.868371      0.199113        0.006022   \n",
      "15                NaN                NaN      0.005854        0.000000   \n",
      "16           0.866751           0.868385      0.181533        0.004093   \n",
      "17           0.866751           0.868371      0.237266        0.001882   \n",
      "18                NaN                NaN      0.005313        0.000000   \n",
      "19           0.866751           0.868371      0.184105        0.002989   \n",
      "20           0.866751           0.868371      0.245523        0.001827   \n",
      "21                NaN                NaN      0.007615        0.000000   \n",
      "22           0.866751           0.868371      0.115781        0.000705   \n",
      "23           0.866751           0.868371      0.288451        0.003472   \n",
      "24                NaN                NaN      0.007565        0.000000   \n",
      "25           0.866751           0.868371      0.128854        0.001344   \n",
      "26           0.866751           0.868371      0.218098        0.002110   \n",
      "27                NaN                NaN      0.023724        0.000000   \n",
      "28           0.866751           0.868371      0.272554        0.009107   \n",
      "29           0.866751           0.868371      0.379352        0.000449   \n",
      "\n",
      "    std_test_score  \n",
      "0              NaN  \n",
      "1         0.001205  \n",
      "2         0.001204  \n",
      "3              NaN  \n",
      "4         0.001200  \n",
      "5         0.001204  \n",
      "6              NaN  \n",
      "7         0.001204  \n",
      "8         0.001204  \n",
      "9              NaN  \n",
      "10        0.001208  \n",
      "11        0.001204  \n",
      "12             NaN  \n",
      "13        0.001204  \n",
      "14        0.001204  \n",
      "15             NaN  \n",
      "16        0.001204  \n",
      "17        0.001204  \n",
      "18             NaN  \n",
      "19        0.001204  \n",
      "20        0.001204  \n",
      "21             NaN  \n",
      "22        0.001204  \n",
      "23        0.001204  \n",
      "24             NaN  \n",
      "25        0.001204  \n",
      "26        0.001204  \n",
      "27             NaN  \n",
      "28        0.001204  \n",
      "29        0.001204  \n",
      "Best estimator\n",
      " LogisticRegression()\n",
      "Best score\n",
      " 0.8684232794969434\n",
      "Best parameters\n",
      " {'C': 1.0, 'penalty': 'l2'}\n"
     ]
    }
   ],
   "source": [
    "parameters_lr = {'C':np.logspace(0,4,10), 'penalty':['l1','l2','none']}\n",
    "\n",
    "clf_lr = GridSearchCV(estimator= log_reg, param_grid= parameters_lr,\n",
    "                      scoring= 'accuracy', n_jobs= -1, cv= 5)\n",
    "clf_lr.fit(X_train, y_train)\n",
    "\n",
    "print('Detail\\n', pd.DataFrame.from_records(clf_lr.cv_results_))\n",
    "print('Best estimator\\n', clf_lr.best_estimator_)\n",
    "print('Best score\\n', clf_lr.best_score_)\n",
    "print('Best parameters\\n', clf_lr.best_params_)"
   ],
   "metadata": {
    "collapsed": false,
    "pycharm": {
     "name": "#%%\n"
    }
   }
  },
  {
   "cell_type": "markdown",
   "metadata": {
    "pycharm": {
     "name": "#%% md\n"
    }
   },
   "source": [
    "XGbooster"
   ]
  },
  {
   "cell_type": "code",
   "execution_count": 42,
   "metadata": {
    "pycharm": {
     "name": "#%%\n"
    }
   },
   "outputs": [
    {
     "name": "stdout",
     "output_type": "stream",
     "text": [
      "              precision    recall  f1-score   support\n",
      "\n",
      "           0      0.969     0.976     0.972     89647\n",
      "           1      0.909     0.888     0.898     24588\n",
      "\n",
      "    accuracy                          0.957    114235\n",
      "   macro avg      0.939     0.932     0.935    114235\n",
      "weighted avg      0.956     0.957     0.956    114235\n",
      "\n"
     ]
    },
    {
     "data": {
      "text/plain": "<Figure size 432x288 with 2 Axes>",
      "image/png": "[encoded data removed]"
     },
     "metadata": {
      "needs_background": "light"
     },
     "output_type": "display_data"
    }
   ],
   "source": [
    "xgboost = XGBClassifier()\n",
    "\n",
    "xgboost.fit(X_train, y_train)\n",
    "y_xgbpred = xgboost.predict(X_val)\n",
    "\n",
    "print(classification_report(y_val, y_xgbpred, digits=3))\n",
    "cm_xgb = confusion_matrix(y_val, y_xgbpred)\n",
    "f_xgb = sns.heatmap(cm_xgb, annot=True, fmt='d')"
   ]
  },
  {
   "cell_type": "code",
   "execution_count": 43,
   "outputs": [
    {
     "data": {
      "text/plain": "<Figure size 432x288 with 1 Axes>",
      "image/png": "[encoded data removed]"
     },
     "metadata": {
      "needs_background": "light"
     },
     "output_type": "display_data"
    }
   ],
   "source": [
    "fpr, tpr, _ = metrics.roc_curve(y_val,  y_xgbpred)\n",
    "auc = metrics.roc_auc_score(y_val, y_xgbpred)\n",
    "\n",
    "plt.plot(fpr,tpr,label=\"AUC=\"+str(auc))\n",
    "plt.ylabel('True Positive Rate')\n",
    "plt.xlabel('False Positive Rate')\n",
    "plt.legend(loc=4)\n",
    "plt.show()"
   ],
   "metadata": {
    "collapsed": false,
    "pycharm": {
     "name": "#%%\n"
    }
   }
  },
  {
   "cell_type": "code",
   "execution_count": 52,
   "outputs": [
    {
     "data": {
      "text/plain": "<Figure size 432x288 with 1 Axes>",
      "image/png": "[encoded data removed]"
     },
     "metadata": {
      "needs_background": "light"
     },
     "output_type": "display_data"
    }
   ],
   "source": [
    "plot_importance(xgboost, max_num_features=10) # top 10 most important features\n",
    "plt.show()"
   ],
   "metadata": {
    "collapsed": false,
    "pycharm": {
     "name": "#%%\n"
    }
   }
  },
  {
   "cell_type": "code",
   "execution_count": 79,
   "outputs": [
    {
     "data": {
      "text/plain": "              col_name\nTerm          0.089368\nStateSame     0.062109\nBankState_CA  0.047844\nBankState_NC  0.041437\nApprovalFY    0.037701\n...                ...\nState_KS      0.000000\nState_IN      0.000000\nState_DE      0.000000\nBankState_WV  0.000000\nBankState_NH  0.000000\n\n[144 rows x 1 columns]",
      "text/html": "<div>\n<style scoped>\n    .dataframe tbody tr th:only-of-type {\n        vertical-align: middle;\n    }\n\n    .dataframe tbody tr th {\n        vertical-align: top;\n    }\n\n    .dataframe thead th {\n        text-align: right;\n    }\n</style>\n<table border=\"1\" class=\"dataframe\">\n  <thead>\n    <tr style=\"text-align: right;\">\n      <th></th>\n      <th>col_name</th>\n    </tr>\n  </thead>\n  <tbody>\n    <tr>\n      <th>Term</th>\n      <td>0.089368</td>\n    </tr>\n    <tr>\n      <th>StateSame</th>\n      <td>0.062109</td>\n    </tr>\n    <tr>\n      <th>BankState_CA</th>\n      <td>0.047844</td>\n    </tr>\n    <tr>\n      <th>BankState_NC</th>\n      <td>0.041437</td>\n    </tr>\n    <tr>\n      <th>ApprovalFY</th>\n      <td>0.037701</td>\n    </tr>\n    <tr>\n      <th>...</th>\n      <td>...</td>\n    </tr>\n    <tr>\n      <th>State_KS</th>\n      <td>0.000000</td>\n    </tr>\n    <tr>\n      <th>State_IN</th>\n      <td>0.000000</td>\n    </tr>\n    <tr>\n      <th>State_DE</th>\n      <td>0.000000</td>\n    </tr>\n    <tr>\n      <th>BankState_WV</th>\n      <td>0.000000</td>\n    </tr>\n    <tr>\n      <th>BankState_NH</th>\n      <td>0.000000</td>\n    </tr>\n  </tbody>\n</table>\n<p>144 rows × 1 columns</p>\n</div>"
     },
     "execution_count": 79,
     "metadata": {},
     "output_type": "execute_result"
    }
   ],
   "source": [
    "pd.DataFrame({'col_name': xgboost.feature_importances_}, index=X.columns).sort_values(by='col_name', ascending=False)"
   ],
   "metadata": {
    "collapsed": false,
    "pycharm": {
     "name": "#%%\n"
    }
   }
  },
  {
   "cell_type": "markdown",
   "source": [
    "XGB Tuning"
   ],
   "metadata": {
    "collapsed": false
   }
  },
  {
   "cell_type": "code",
   "execution_count": 171,
   "outputs": [
    {
     "name": "stdout",
     "output_type": "stream",
     "text": [
      "Detail\n",
      "     mean_fit_time  mean_score_time  mean_test_score param_eta param_gamma  \\\n",
      "0      156.427409         0.173510         0.954769       0.2           0   \n",
      "1      173.513489         0.216074         0.956566       0.2           0   \n",
      "2      190.348736         0.247516         0.957806       0.2           0   \n",
      "3      132.616128         0.184613         0.954582       0.2           1   \n",
      "4      162.891266         0.222255         0.956677       0.2           1   \n",
      "5      197.680478         0.249595         0.957771       0.2           1   \n",
      "6      150.949542         0.192368         0.954783       0.2           2   \n",
      "7      178.792837         0.215535         0.956575       0.2           2   \n",
      "8      199.615230         0.257043         0.957736       0.2           2   \n",
      "9      145.507488         0.188755         0.954769       0.3           0   \n",
      "10     175.621864         0.213691         0.956566       0.3           0   \n",
      "11     201.630065         0.249868         0.957806       0.3           0   \n",
      "12     148.840404         0.195061         0.954582       0.3           1   \n",
      "13     175.234481         0.212536         0.956677       0.3           1   \n",
      "14     201.904276         0.240477         0.957771       0.3           1   \n",
      "15     152.013956         0.185997         0.954783       0.3           2   \n",
      "16     174.581273         0.204603         0.956575       0.3           2   \n",
      "17     189.131722         0.247649         0.957736       0.3           2   \n",
      "18     131.526532         0.177216         0.954769       0.4           0   \n",
      "19     161.333821         0.227769         0.956566       0.4           0   \n",
      "20     195.447206         0.235081         0.957806       0.4           0   \n",
      "21     144.200313         0.190394         0.954582       0.4           1   \n",
      "22     175.712879         0.218239         0.956677       0.4           1   \n",
      "23     199.404301         0.261203         0.957771       0.4           1   \n",
      "24     145.327169         0.189257         0.954783       0.4           2   \n",
      "25     174.626528         0.208416         0.956575       0.4           2   \n",
      "26     157.572403         0.194501         0.957736       0.4           2   \n",
      "\n",
      "   param_max_depth                                          params  \\\n",
      "0                5  {'eta': '0.2', 'gamma': '0', 'max_depth': '5'}   \n",
      "1                6  {'eta': '0.2', 'gamma': '0', 'max_depth': '6'}   \n",
      "2                7  {'eta': '0.2', 'gamma': '0', 'max_depth': '7'}   \n",
      "3                5  {'eta': '0.2', 'gamma': '1', 'max_depth': '5'}   \n",
      "4                6  {'eta': '0.2', 'gamma': '1', 'max_depth': '6'}   \n",
      "5                7  {'eta': '0.2', 'gamma': '1', 'max_depth': '7'}   \n",
      "6                5  {'eta': '0.2', 'gamma': '2', 'max_depth': '5'}   \n",
      "7                6  {'eta': '0.2', 'gamma': '2', 'max_depth': '6'}   \n",
      "8                7  {'eta': '0.2', 'gamma': '2', 'max_depth': '7'}   \n",
      "9                5  {'eta': '0.3', 'gamma': '0', 'max_depth': '5'}   \n",
      "10               6  {'eta': '0.3', 'gamma': '0', 'max_depth': '6'}   \n",
      "11               7  {'eta': '0.3', 'gamma': '0', 'max_depth': '7'}   \n",
      "12               5  {'eta': '0.3', 'gamma': '1', 'max_depth': '5'}   \n",
      "13               6  {'eta': '0.3', 'gamma': '1', 'max_depth': '6'}   \n",
      "14               7  {'eta': '0.3', 'gamma': '1', 'max_depth': '7'}   \n",
      "15               5  {'eta': '0.3', 'gamma': '2', 'max_depth': '5'}   \n",
      "16               6  {'eta': '0.3', 'gamma': '2', 'max_depth': '6'}   \n",
      "17               7  {'eta': '0.3', 'gamma': '2', 'max_depth': '7'}   \n",
      "18               5  {'eta': '0.4', 'gamma': '0', 'max_depth': '5'}   \n",
      "19               6  {'eta': '0.4', 'gamma': '0', 'max_depth': '6'}   \n",
      "20               7  {'eta': '0.4', 'gamma': '0', 'max_depth': '7'}   \n",
      "21               5  {'eta': '0.4', 'gamma': '1', 'max_depth': '5'}   \n",
      "22               6  {'eta': '0.4', 'gamma': '1', 'max_depth': '6'}   \n",
      "23               7  {'eta': '0.4', 'gamma': '1', 'max_depth': '7'}   \n",
      "24               5  {'eta': '0.4', 'gamma': '2', 'max_depth': '5'}   \n",
      "25               6  {'eta': '0.4', 'gamma': '2', 'max_depth': '6'}   \n",
      "26               7  {'eta': '0.4', 'gamma': '2', 'max_depth': '7'}   \n",
      "\n",
      "    rank_test_score  split0_test_score  split1_test_score  split2_test_score  \\\n",
      "0                22           0.954684           0.954801           0.954597   \n",
      "1                16           0.955297           0.956610           0.957091   \n",
      "2                 1           0.957369           0.957894           0.958113   \n",
      "3                25           0.954028           0.954334           0.954451   \n",
      "4                10           0.955924           0.956464           0.957281   \n",
      "5                 4           0.957252           0.958025           0.957894   \n",
      "6                19           0.953969           0.954742           0.954742   \n",
      "7                13           0.955530           0.956406           0.957091   \n",
      "8                 7           0.957412           0.957529           0.958828   \n",
      "9                22           0.954684           0.954801           0.954597   \n",
      "10               16           0.955297           0.956610           0.957091   \n",
      "11                1           0.957369           0.957894           0.958113   \n",
      "12               25           0.954028           0.954334           0.954451   \n",
      "13               10           0.955924           0.956464           0.957281   \n",
      "14                4           0.957252           0.958025           0.957894   \n",
      "15               19           0.953969           0.954742           0.954742   \n",
      "16               13           0.955530           0.956406           0.957091   \n",
      "17                7           0.957412           0.957529           0.958828   \n",
      "18               22           0.954684           0.954801           0.954597   \n",
      "19               16           0.955297           0.956610           0.957091   \n",
      "20                1           0.957369           0.957894           0.958113   \n",
      "21               25           0.954028           0.954334           0.954451   \n",
      "22               10           0.955924           0.956464           0.957281   \n",
      "23                4           0.957252           0.958025           0.957894   \n",
      "24               19           0.953969           0.954742           0.954742   \n",
      "25               13           0.955530           0.956406           0.957091   \n",
      "26                7           0.957412           0.957529           0.958828   \n",
      "\n",
      "    split3_test_score  split4_test_score  std_fit_time  std_score_time  \\\n",
      "0            0.954319           0.955443      1.042249        0.018591   \n",
      "1            0.956464           0.957369      5.316390        0.013493   \n",
      "2            0.957354           0.958302      1.134607        0.016247   \n",
      "3            0.954611           0.955486      2.602704        0.004892   \n",
      "4            0.956449           0.957266      3.797013        0.010117   \n",
      "5            0.957471           0.958215      2.283062        0.021970   \n",
      "6            0.955063           0.955399      6.171377        0.022586   \n",
      "7            0.956683           0.957164      1.903389        0.005807   \n",
      "8            0.957121           0.957792      1.172479        0.018159   \n",
      "9            0.954319           0.955443      3.507400        0.023808   \n",
      "10           0.956464           0.957369      2.183850        0.013312   \n",
      "11           0.957354           0.958302      0.772430        0.013694   \n",
      "12           0.954611           0.955486      1.772835        0.015755   \n",
      "13           0.956449           0.957266      1.284299        0.002729   \n",
      "14           0.957471           0.958215      1.942011        0.016764   \n",
      "15           0.955063           0.955399      2.655742        0.010828   \n",
      "16           0.956683           0.957164      3.491451        0.015000   \n",
      "17           0.957121           0.957792      3.119786        0.017644   \n",
      "18           0.954319           0.955443      2.052172        0.005013   \n",
      "19           0.956464           0.957369      1.228961        0.030281   \n",
      "20           0.957354           0.958302      3.713784        0.013101   \n",
      "21           0.954611           0.955486      2.920479        0.012194   \n",
      "22           0.956449           0.957266      1.549017        0.015644   \n",
      "23           0.957471           0.958215      0.615356        0.027005   \n",
      "24           0.955063           0.955399      2.258377        0.013004   \n",
      "25           0.956683           0.957164      3.667181        0.025403   \n",
      "26           0.957121           0.957792     15.783826        0.003947   \n",
      "\n",
      "    std_test_score  \n",
      "0         0.000373  \n",
      "1         0.000713  \n",
      "2         0.000386  \n",
      "3         0.000491  \n",
      "4         0.000525  \n",
      "5         0.000357  \n",
      "6         0.000474  \n",
      "7         0.000591  \n",
      "8         0.000587  \n",
      "9         0.000373  \n",
      "10        0.000713  \n",
      "11        0.000386  \n",
      "12        0.000491  \n",
      "13        0.000525  \n",
      "14        0.000357  \n",
      "15        0.000474  \n",
      "16        0.000591  \n",
      "17        0.000587  \n",
      "18        0.000373  \n",
      "19        0.000713  \n",
      "20        0.000386  \n",
      "21        0.000491  \n",
      "22        0.000525  \n",
      "23        0.000357  \n",
      "24        0.000474  \n",
      "25        0.000591  \n",
      "26        0.000587  \n",
      "Best estimator\n",
      " XGBClassifier(base_score=0.5, booster='gbtree', callbacks=None,\n",
      "              colsample_bylevel=1, colsample_bynode=1, colsample_bytree=1,\n",
      "              early_stopping_rounds=None, enable_categorical=False, eta='0.2',\n",
      "              eval_metric=None, gamma='0', gpu_id=-1, grow_policy='depthwise',\n",
      "              importance_type=None, interaction_constraints='',\n",
      "              learning_rate=0.300000012, max_bin=256, max_cat_to_onehot=4,\n",
      "              max_delta_step=0, max_depth='7', max_leaves=0, min_child_weight=1,\n",
      "              missing=nan, monotone_constraints='()', n_estimators=100,\n",
      "              n_jobs=0, num_parallel_tree=1, predictor='auto', random_state=0,\n",
      "              reg_alpha=0, ...)\n",
      "Best score\n",
      " 0.9578062765352124\n",
      "Best parameters\n",
      " {'eta': '0.2', 'gamma': '0', 'max_depth': '7'}\n"
     ]
    }
   ],
   "source": [
    "parameters_xgb = {'eta':['0.2','0.3','0.4'], 'gamma':['0','1','2'], 'max_depth':['5','6','7']}\n",
    "\n",
    "clf_xgb = GridSearchCV(estimator= xgboost, param_grid= parameters_xgb,\n",
    "                      scoring= 'accuracy', n_jobs= -1, cv= 5)\n",
    "clf_xgb.fit(X_train, y_train)\n",
    "\n",
    "#result\n",
    "print('Detail\\n', pd.DataFrame.from_records(clf_xgb.cv_results_))\n",
    "print('Best estimator\\n', clf_xgb.best_estimator_)\n",
    "print('Best score\\n', clf_xgb.best_score_)\n",
    "print('Best parameters\\n', clf_xgb.best_params_)"
   ],
   "metadata": {
    "collapsed": false,
    "pycharm": {
     "name": "#%%\n"
    }
   }
  },
  {
   "cell_type": "markdown",
   "metadata": {
    "pycharm": {
     "name": "#%% md\n"
    }
   },
   "source": [
    "Support Vector Machines-2h30min"
   ]
  },
  {
   "cell_type": "code",
   "execution_count": 172,
   "metadata": {
    "pycharm": {
     "name": "#%%\n"
    }
   },
   "outputs": [
    {
     "name": "stdout",
     "output_type": "stream",
     "text": [
      "              precision    recall  f1-score   support\n",
      "\n",
      "           0      0.914     0.967     0.940     89833\n",
      "           1      0.845     0.666     0.745     24402\n",
      "\n",
      "    accuracy                          0.903    114235\n",
      "   macro avg      0.880     0.816     0.842    114235\n",
      "weighted avg      0.899     0.903     0.898    114235\n",
      "\n"
     ]
    },
    {
     "data": {
      "text/plain": "<Figure size 432x288 with 2 Axes>",
      "image/png": "[encoded data removed]"
     },
     "metadata": {
      "needs_background": "light"
     },
     "output_type": "display_data"
    }
   ],
   "source": [
    "svm_rbf = svm.SVC(kernel='rbf') # Rbf Kernel\n",
    "\n",
    "svm_rbf.fit(X_train, y_train)\n",
    "y_rsvmpred = svm_rbf.predict(X_val)\n",
    "\n",
    "print(classification_report(y_val, y_rsvmpred, digits=3))\n",
    "cm_svm = confusion_matrix(y_val, y_rsvmpred)\n",
    "f_svm = sns.heatmap(cm_svm, annot=True, fmt='d')"
   ]
  },
  {
   "cell_type": "code",
   "execution_count": 173,
   "outputs": [
    {
     "data": {
      "text/plain": "<Figure size 432x288 with 1 Axes>",
      "image/png": "[encoded data removed]"
     },
     "metadata": {
      "needs_background": "light"
     },
     "output_type": "display_data"
    }
   ],
   "source": [
    "fpr, tpr, _ = metrics.roc_curve(y_val,  y_rsvmpred)\n",
    "auc = metrics.roc_auc_score(y_val, y_rsvmpred)\n",
    "\n",
    "plt.plot(fpr,tpr,label=\"AUC=\"+str(auc))\n",
    "plt.ylabel('True Positive Rate')\n",
    "plt.xlabel('False Positive Rate')\n",
    "plt.legend(loc=4)\n",
    "plt.show()"
   ],
   "metadata": {
    "collapsed": false,
    "pycharm": {
     "name": "#%%\n"
    }
   }
  },
  {
   "cell_type": "markdown",
   "source": [
    "SVM Tuning"
   ],
   "metadata": {
    "collapsed": false
   }
  },
  {
   "cell_type": "code",
   "execution_count": null,
   "outputs": [],
   "source": [
    "parameters_svm = {'C':[0.1, 1, 10], 'gamma':[1, 0.1, 0.01,'scale']}\n",
    "\n",
    "clf_svm = GridSearchCV(estimator= svm_rbf, param_grid= parameters_svm,\n",
    "                      scoring= 'accuracy', n_jobs= -1, cv= 5)\n",
    "clf_svm.fit(X_train, y_train)\n",
    "\n",
    "print('Detail\\n', pd.DataFrame.from_records(clf_svm.cv_results_))\n",
    "print('Best estimator\\n', clf_svm.best_estimator_)\n",
    "print('Best score\\n', clf_svm.best_score_)\n",
    "print('Best parameters\\n', clf_svm.best_params_)"
   ],
   "metadata": {
    "collapsed": false,
    "pycharm": {
     "name": "#%%\n"
    }
   }
  },
  {
   "cell_type": "markdown",
   "metadata": {
    "pycharm": {
     "name": "#%% md\n"
    }
   },
   "source": [
    "Random forest -20min\n"
   ]
  },
  {
   "cell_type": "code",
   "execution_count": 43,
   "metadata": {
    "pycharm": {
     "name": "#%%\n"
    }
   },
   "outputs": [
    {
     "name": "stdout",
     "output_type": "stream",
     "text": [
      "              precision    recall  f1-score   support\n",
      "\n",
      "           0       0.95      0.98      0.97     89507\n",
      "           1       0.92      0.82      0.87     24728\n",
      "\n",
      "    accuracy                           0.95    114235\n",
      "   macro avg       0.94      0.90      0.92    114235\n",
      "weighted avg       0.95      0.95      0.94    114235\n",
      "\n"
     ]
    },
    {
     "data": {
      "text/plain": "<Figure size 432x288 with 2 Axes>",
      "image/png": "[encoded data removed]"
     },
     "metadata": {
      "needs_background": "light"
     },
     "output_type": "display_data"
    }
   ],
   "source": [
    "Ran_forest = RandomForestClassifier()\n",
    "\n",
    "Ran_forest.fit(X_train, y_train)\n",
    "y_ranpred = Ran_forest.predict(X_val)\n",
    "\n",
    "print(classification_report(y_val,y_ranpred))\n",
    "cm_ran = confusion_matrix(y_val, y_ranpred)\n",
    "f_ran = sns.heatmap(cm_ran, annot=True, fmt='d')"
   ]
  },
  {
   "cell_type": "code",
   "execution_count": 332,
   "outputs": [
    {
     "data": {
      "text/plain": "<Figure size 432x288 with 1 Axes>",
      "image/png": "[encoded data removed]"
     },
     "metadata": {
      "needs_background": "light"
     },
     "output_type": "display_data"
    }
   ],
   "source": [
    "fpr, tpr, _ = metrics.roc_curve(y_val,  y_ranpred)\n",
    "auc = metrics.roc_auc_score(y_val, y_ranpred)\n",
    "\n",
    "plt.plot(fpr,tpr,label=\"AUC=\"+str(auc))\n",
    "plt.ylabel('True Positive Rate')\n",
    "plt.xlabel('False Positive Rate')\n",
    "plt.legend(loc=4)\n",
    "plt.show()"
   ],
   "metadata": {
    "collapsed": false,
    "pycharm": {
     "name": "#%%\n"
    }
   }
  },
  {
   "cell_type": "markdown",
   "source": [
    "RF Tuning"
   ],
   "metadata": {
    "collapsed": false
   }
  },
  {
   "cell_type": "code",
   "execution_count": 44,
   "outputs": [
    {
     "name": "stderr",
     "output_type": "stream",
     "text": [
      "/Users/wangzhuli/Desktop/Programing/pythonProject/venv/lib/python3.10/site-packages/sklearn/model_selection/_validation.py:378: FitFailedWarning: \n",
      "540 fits failed out of a total of 5400.\n",
      "The score on these train-test partitions for these parameters will be set to nan.\n",
      "If these failures are not expected, you can try to debug them by setting error_score='raise'.\n",
      "\n",
      "Below are more details about the failures:\n",
      "--------------------------------------------------------------------------------\n",
      "270 fits failed with the following error:\n",
      "Traceback (most recent call last):\n",
      "  File \"/Users/wangzhuli/Desktop/Programing/pythonProject/venv/lib/python3.10/site-packages/sklearn/model_selection/_validation.py\", line 686, in _fit_and_score\n",
      "    estimator.fit(X_train, y_train, **fit_params)\n",
      "  File \"/Users/wangzhuli/Desktop/Programing/pythonProject/venv/lib/python3.10/site-packages/sklearn/ensemble/_forest.py\", line 476, in fit\n",
      "    trees = Parallel(\n",
      "  File \"/Users/wangzhuli/Desktop/Programing/pythonProject/venv/lib/python3.10/site-packages/joblib/parallel.py\", line 1043, in __call__\n",
      "    if self.dispatch_one_batch(iterator):\n",
      "  File \"/Users/wangzhuli/Desktop/Programing/pythonProject/venv/lib/python3.10/site-packages/joblib/parallel.py\", line 861, in dispatch_one_batch\n",
      "    self._dispatch(tasks)\n",
      "  File \"/Users/wangzhuli/Desktop/Programing/pythonProject/venv/lib/python3.10/site-packages/joblib/parallel.py\", line 779, in _dispatch\n",
      "    job = self._backend.apply_async(batch, callback=cb)\n",
      "  File \"/Users/wangzhuli/Desktop/Programing/pythonProject/venv/lib/python3.10/site-packages/joblib/_parallel_backends.py\", line 208, in apply_async\n",
      "    result = ImmediateResult(func)\n",
      "  File \"/Users/wangzhuli/Desktop/Programing/pythonProject/venv/lib/python3.10/site-packages/joblib/_parallel_backends.py\", line 572, in __init__\n",
      "    self.results = batch()\n",
      "  File \"/Users/wangzhuli/Desktop/Programing/pythonProject/venv/lib/python3.10/site-packages/joblib/parallel.py\", line 262, in __call__\n",
      "    return [func(*args, **kwargs)\n",
      "  File \"/Users/wangzhuli/Desktop/Programing/pythonProject/venv/lib/python3.10/site-packages/joblib/parallel.py\", line 262, in <listcomp>\n",
      "    return [func(*args, **kwargs)\n",
      "  File \"/Users/wangzhuli/Desktop/Programing/pythonProject/venv/lib/python3.10/site-packages/sklearn/utils/fixes.py\", line 117, in __call__\n",
      "    return self.function(*args, **kwargs)\n",
      "  File \"/Users/wangzhuli/Desktop/Programing/pythonProject/venv/lib/python3.10/site-packages/sklearn/ensemble/_forest.py\", line 189, in _parallel_build_trees\n",
      "    tree.fit(X, y, sample_weight=curr_sample_weight, check_input=False)\n",
      "  File \"/Users/wangzhuli/Desktop/Programing/pythonProject/venv/lib/python3.10/site-packages/sklearn/tree/_classes.py\", line 969, in fit\n",
      "    super().fit(\n",
      "  File \"/Users/wangzhuli/Desktop/Programing/pythonProject/venv/lib/python3.10/site-packages/sklearn/tree/_classes.py\", line 265, in fit\n",
      "    check_scalar(\n",
      "  File \"/Users/wangzhuli/Desktop/Programing/pythonProject/venv/lib/python3.10/site-packages/sklearn/utils/validation.py\", line 1480, in check_scalar\n",
      "    raise ValueError(\n",
      "ValueError: min_samples_split == 0, must be >= 2.\n",
      "\n",
      "--------------------------------------------------------------------------------\n",
      "270 fits failed with the following error:\n",
      "Traceback (most recent call last):\n",
      "  File \"/Users/wangzhuli/Desktop/Programing/pythonProject/venv/lib/python3.10/site-packages/sklearn/model_selection/_validation.py\", line 686, in _fit_and_score\n",
      "    estimator.fit(X_train, y_train, **fit_params)\n",
      "  File \"/Users/wangzhuli/Desktop/Programing/pythonProject/venv/lib/python3.10/site-packages/sklearn/ensemble/_forest.py\", line 476, in fit\n",
      "    trees = Parallel(\n",
      "  File \"/Users/wangzhuli/Desktop/Programing/pythonProject/venv/lib/python3.10/site-packages/joblib/parallel.py\", line 1043, in __call__\n",
      "    if self.dispatch_one_batch(iterator):\n",
      "  File \"/Users/wangzhuli/Desktop/Programing/pythonProject/venv/lib/python3.10/site-packages/joblib/parallel.py\", line 861, in dispatch_one_batch\n",
      "    self._dispatch(tasks)\n",
      "  File \"/Users/wangzhuli/Desktop/Programing/pythonProject/venv/lib/python3.10/site-packages/joblib/parallel.py\", line 779, in _dispatch\n",
      "    job = self._backend.apply_async(batch, callback=cb)\n",
      "  File \"/Users/wangzhuli/Desktop/Programing/pythonProject/venv/lib/python3.10/site-packages/joblib/_parallel_backends.py\", line 208, in apply_async\n",
      "    result = ImmediateResult(func)\n",
      "  File \"/Users/wangzhuli/Desktop/Programing/pythonProject/venv/lib/python3.10/site-packages/joblib/_parallel_backends.py\", line 572, in __init__\n",
      "    self.results = batch()\n",
      "  File \"/Users/wangzhuli/Desktop/Programing/pythonProject/venv/lib/python3.10/site-packages/joblib/parallel.py\", line 262, in __call__\n",
      "    return [func(*args, **kwargs)\n",
      "  File \"/Users/wangzhuli/Desktop/Programing/pythonProject/venv/lib/python3.10/site-packages/joblib/parallel.py\", line 262, in <listcomp>\n",
      "    return [func(*args, **kwargs)\n",
      "  File \"/Users/wangzhuli/Desktop/Programing/pythonProject/venv/lib/python3.10/site-packages/sklearn/utils/fixes.py\", line 117, in __call__\n",
      "    return self.function(*args, **kwargs)\n",
      "  File \"/Users/wangzhuli/Desktop/Programing/pythonProject/venv/lib/python3.10/site-packages/sklearn/ensemble/_forest.py\", line 189, in _parallel_build_trees\n",
      "    tree.fit(X, y, sample_weight=curr_sample_weight, check_input=False)\n",
      "  File \"/Users/wangzhuli/Desktop/Programing/pythonProject/venv/lib/python3.10/site-packages/sklearn/tree/_classes.py\", line 969, in fit\n",
      "    super().fit(\n",
      "  File \"/Users/wangzhuli/Desktop/Programing/pythonProject/venv/lib/python3.10/site-packages/sklearn/tree/_classes.py\", line 265, in fit\n",
      "    check_scalar(\n",
      "  File \"/Users/wangzhuli/Desktop/Programing/pythonProject/venv/lib/python3.10/site-packages/sklearn/utils/validation.py\", line 1480, in check_scalar\n",
      "    raise ValueError(\n",
      "ValueError: min_samples_split == 1, must be >= 2.\n",
      "\n",
      "  warnings.warn(some_fits_failed_message, FitFailedWarning)\n",
      "/Users/wangzhuli/Desktop/Programing/pythonProject/venv/lib/python3.10/site-packages/sklearn/model_selection/_search.py:953: UserWarning: One or more of the test scores are non-finite: [       nan        nan        nan ... 0.91887483 0.91853635 0.91828249]\n",
      "  warnings.warn(\n"
     ]
    },
    {
     "name": "stdout",
     "output_type": "stream",
     "text": [
      "Detail\n",
      "       mean_fit_time  mean_score_time  mean_test_score param_max_depth  \\\n",
      "0          1.968810         0.000000              NaN               3   \n",
      "1          1.253772         0.000000              NaN               3   \n",
      "2          0.154848         0.000000              NaN               3   \n",
      "3          0.167739         0.000000              NaN               3   \n",
      "4          0.163149         0.000000              NaN               3   \n",
      "...             ...              ...              ...             ...   \n",
      "1075      17.126450         0.362119         0.917209              13   \n",
      "1076      20.121438         0.418239         0.918160              13   \n",
      "1077      23.576269         0.501968         0.918875              13   \n",
      "1078      26.537975         0.531392         0.918536              13   \n",
      "1079      24.800220         0.487987         0.918282              13   \n",
      "\n",
      "     param_min_samples_split param_n_estimators  \\\n",
      "0                          0                 10   \n",
      "1                          0                 20   \n",
      "2                          0                 30   \n",
      "3                          0                 40   \n",
      "4                          0                 50   \n",
      "...                      ...                ...   \n",
      "1075                      19                 50   \n",
      "1076                      19                 60   \n",
      "1077                      19                 70   \n",
      "1078                      19                 80   \n",
      "1079                      19                 90   \n",
      "\n",
      "                                                 params  rank_test_score  \\\n",
      "0     {'max_depth': 3, 'min_samples_split': 0, 'n_es...             1080   \n",
      "1     {'max_depth': 3, 'min_samples_split': 0, 'n_es...              974   \n",
      "2     {'max_depth': 3, 'min_samples_split': 0, 'n_es...              975   \n",
      "3     {'max_depth': 3, 'min_samples_split': 0, 'n_es...              976   \n",
      "4     {'max_depth': 3, 'min_samples_split': 0, 'n_es...              977   \n",
      "...                                                 ...              ...   \n",
      "1075  {'max_depth': 13, 'min_samples_split': 19, 'n_...               94   \n",
      "1076  {'max_depth': 13, 'min_samples_split': 19, 'n_...               52   \n",
      "1077  {'max_depth': 13, 'min_samples_split': 19, 'n_...               13   \n",
      "1078  {'max_depth': 13, 'min_samples_split': 19, 'n_...               26   \n",
      "1079  {'max_depth': 13, 'min_samples_split': 19, 'n_...               41   \n",
      "\n",
      "      split0_test_score  split1_test_score  split2_test_score  \\\n",
      "0                   NaN                NaN                NaN   \n",
      "1                   NaN                NaN                NaN   \n",
      "2                   NaN                NaN                NaN   \n",
      "3                   NaN                NaN                NaN   \n",
      "4                   NaN                NaN                NaN   \n",
      "...                 ...                ...                ...   \n",
      "1075           0.916240           0.916109           0.918851   \n",
      "1076           0.916211           0.917713           0.916240   \n",
      "1077           0.920194           0.917276           0.916751   \n",
      "1078           0.918370           0.918385           0.918924   \n",
      "1079           0.916838           0.919785           0.916167   \n",
      "\n",
      "      split3_test_score  split4_test_score  std_fit_time  std_score_time  \\\n",
      "0                   NaN                NaN      0.030097        0.000000   \n",
      "1                   NaN                NaN      0.910291        0.000000   \n",
      "2                   NaN                NaN      0.002432        0.000000   \n",
      "3                   NaN                NaN      0.003875        0.000000   \n",
      "4                   NaN                NaN      0.010779        0.000000   \n",
      "...                 ...                ...           ...             ...   \n",
      "1075           0.916167           0.918676      0.255085        0.010180   \n",
      "1076           0.920456           0.920179      0.117412        0.019858   \n",
      "1077           0.919858           0.920296      0.153072        0.022341   \n",
      "1078           0.918137           0.918866      0.370851        0.041374   \n",
      "1079           0.917524           0.921098      1.785121        0.022314   \n",
      "\n",
      "      std_test_score  \n",
      "0                NaN  \n",
      "1                NaN  \n",
      "2                NaN  \n",
      "3                NaN  \n",
      "4                NaN  \n",
      "...              ...  \n",
      "1075        0.001272  \n",
      "1076        0.001846  \n",
      "1077        0.001536  \n",
      "1078        0.000307  \n",
      "1079        0.001861  \n",
      "\n",
      "[1080 rows x 16 columns]\n",
      "Best estimator\n",
      " RandomForestClassifier(max_depth=13, min_samples_split=9, n_estimators=50)\n",
      "Best score\n",
      " 0.9196772734567633\n",
      "Best parameters\n",
      " {'max_depth': 13, 'min_samples_split': 9, 'n_estimators': 50}\n"
     ]
    }
   ],
   "source": [
    "parameters_rf = {'n_estimators':range(10,100,10), 'max_depth':range(3,14,2),\n",
    "                     'min_samples_split':range(0,20)}\n",
    "\n",
    "clf_rf = GridSearchCV(estimator= Ran_forest, param_grid= parameters_rf,\n",
    "                      scoring= 'accuracy', n_jobs= -1, cv= 5)\n",
    "clf_rf.fit(X_train, y_train)\n",
    "\n",
    "print('Detail\\n', pd.DataFrame.from_records(clf_rf.cv_results_))\n",
    "print('Best estimator\\n', clf_rf.best_estimator_)\n",
    "print('Best score\\n', clf_rf.best_score_)\n",
    "print('Best parameters\\n', clf_rf.best_params_)"
   ],
   "metadata": {
    "collapsed": false,
    "pycharm": {
     "name": "#%%\n"
    }
   }
  },
  {
   "cell_type": "markdown",
   "metadata": {
    "pycharm": {
     "name": "#%% md\n"
    }
   },
   "source": [
    "imbalance dataset control - random undersampling"
   ]
  },
  {
   "cell_type": "code",
   "execution_count": 45,
   "metadata": {
    "pycharm": {
     "name": "#%%\n"
    }
   },
   "outputs": [
    {
     "data": {
      "text/plain": "   ApprovalFY  Term  NoEmp  CreateJob  RetainedJob  RevLineCr  LowDoc  \\\n0        1997    84      4          0            0          0       1   \n1        1997    60      2          0            0          0       1   \n2        1997   180      7          0            0          0       0   \n5        1997   120     19          0            0          0       0   \n7        1997    84      1          0            0          0       1   \n\n   DisbursementGross    GrAppv  IsFranchise  ...  Industry_Mgmt_comp  \\\n0            60000.0   60000.0            0  ...                   0   \n1            40000.0   40000.0            0  ...                   0   \n2           287000.0  287000.0            0  ...                   0   \n5           517000.0  517000.0            0  ...                   0   \n7            45000.0   45000.0            0  ...                   0   \n\n   Industry_Min/Quar/Oil_Gas_ext  Industry_Other_no_pub  \\\n0                              0                      0   \n1                              0                      0   \n2                              0                      0   \n5                              0                      0   \n7                              0                      1   \n\n   Industry_Prof/Science/Tech  Industry_Public_Admin  \\\n0                           0                      0   \n1                           0                      0   \n2                           0                      0   \n5                           0                      0   \n7                           0                      0   \n\n   Industry_RE/Rental/Lease  Industry_Retail_trade  Industry_Trans/Ware  \\\n0                         0                      1                    0   \n1                         0                      0                    0   \n2                         0                      0                    0   \n5                         0                      0                    0   \n7                         0                      0                    0   \n\n   Industry_Utilities  Industry_Wholesale_trade  \n0                   0                         0  \n1                   0                         0  \n2                   0                         0  \n5                   0                         0  \n7                   0                         0  \n\n[5 rows x 145 columns]",
      "text/html": "<div>\n<style scoped>\n    .dataframe tbody tr th:only-of-type {\n        vertical-align: middle;\n    }\n\n    .dataframe tbody tr th {\n        vertical-align: top;\n    }\n\n    .dataframe thead th {\n        text-align: right;\n    }\n</style>\n<table border=\"1\" class=\"dataframe\">\n  <thead>\n    <tr style=\"text-align: right;\">\n      <th></th>\n      <th>ApprovalFY</th>\n      <th>Term</th>\n      <th>NoEmp</th>\n      <th>CreateJob</th>\n      <th>RetainedJob</th>\n      <th>RevLineCr</th>\n      <th>LowDoc</th>\n      <th>DisbursementGross</th>\n      <th>GrAppv</th>\n      <th>IsFranchise</th>\n      <th>...</th>\n      <th>Industry_Mgmt_comp</th>\n      <th>Industry_Min/Quar/Oil_Gas_ext</th>\n      <th>Industry_Other_no_pub</th>\n      <th>Industry_Prof/Science/Tech</th>\n      <th>Industry_Public_Admin</th>\n      <th>Industry_RE/Rental/Lease</th>\n      <th>Industry_Retail_trade</th>\n      <th>Industry_Trans/Ware</th>\n      <th>Industry_Utilities</th>\n      <th>Industry_Wholesale_trade</th>\n    </tr>\n  </thead>\n  <tbody>\n    <tr>\n      <th>0</th>\n      <td>1997</td>\n      <td>84</td>\n      <td>4</td>\n      <td>0</td>\n      <td>0</td>\n      <td>0</td>\n      <td>1</td>\n      <td>60000.0</td>\n      <td>60000.0</td>\n      <td>0</td>\n      <td>...</td>\n      <td>0</td>\n      <td>0</td>\n      <td>0</td>\n      <td>0</td>\n      <td>0</td>\n      <td>0</td>\n      <td>1</td>\n      <td>0</td>\n      <td>0</td>\n      <td>0</td>\n    </tr>\n    <tr>\n      <th>1</th>\n      <td>1997</td>\n      <td>60</td>\n      <td>2</td>\n      <td>0</td>\n      <td>0</td>\n      <td>0</td>\n      <td>1</td>\n      <td>40000.0</td>\n      <td>40000.0</td>\n      <td>0</td>\n      <td>...</td>\n      <td>0</td>\n      <td>0</td>\n      <td>0</td>\n      <td>0</td>\n      <td>0</td>\n      <td>0</td>\n      <td>0</td>\n      <td>0</td>\n      <td>0</td>\n      <td>0</td>\n    </tr>\n    <tr>\n      <th>2</th>\n      <td>1997</td>\n      <td>180</td>\n      <td>7</td>\n      <td>0</td>\n      <td>0</td>\n      <td>0</td>\n      <td>0</td>\n      <td>287000.0</td>\n      <td>287000.0</td>\n      <td>0</td>\n      <td>...</td>\n      <td>0</td>\n      <td>0</td>\n      <td>0</td>\n      <td>0</td>\n      <td>0</td>\n      <td>0</td>\n      <td>0</td>\n      <td>0</td>\n      <td>0</td>\n      <td>0</td>\n    </tr>\n    <tr>\n      <th>5</th>\n      <td>1997</td>\n      <td>120</td>\n      <td>19</td>\n      <td>0</td>\n      <td>0</td>\n      <td>0</td>\n      <td>0</td>\n      <td>517000.0</td>\n      <td>517000.0</td>\n      <td>0</td>\n      <td>...</td>\n      <td>0</td>\n      <td>0</td>\n      <td>0</td>\n      <td>0</td>\n      <td>0</td>\n      <td>0</td>\n      <td>0</td>\n      <td>0</td>\n      <td>0</td>\n      <td>0</td>\n    </tr>\n    <tr>\n      <th>7</th>\n      <td>1997</td>\n      <td>84</td>\n      <td>1</td>\n      <td>0</td>\n      <td>0</td>\n      <td>0</td>\n      <td>1</td>\n      <td>45000.0</td>\n      <td>45000.0</td>\n      <td>0</td>\n      <td>...</td>\n      <td>0</td>\n      <td>0</td>\n      <td>1</td>\n      <td>0</td>\n      <td>0</td>\n      <td>0</td>\n      <td>0</td>\n      <td>0</td>\n      <td>0</td>\n      <td>0</td>\n    </tr>\n  </tbody>\n</table>\n<p>5 rows × 145 columns</p>\n</div>"
     },
     "execution_count": 45,
     "metadata": {},
     "output_type": "execute_result"
    }
   ],
   "source": [
    "df_imbalance = df_copy.copy()\n",
    "df_imbalance.head()"
   ]
  },
  {
   "cell_type": "code",
   "execution_count": 106,
   "outputs": [
    {
     "name": "stdout",
     "output_type": "stream",
     "text": [
      "[(0, 358558), (1, 98382)]\n",
      "[(0, 98382), (1, 98382)]\n"
     ]
    }
   ],
   "source": [
    "y = df_imbalance['Default']\n",
    "X = df_imbalance.drop('Default', axis=1)\n",
    "\n",
    "rus = RandomUnderSampler(sampling_strategy='majority')\n",
    "X_resampled, y_resampled = rus.fit_resample(X, y)\n",
    "print(sorted(Counter(y).items()))\n",
    "print(sorted(Counter(y_resampled).items()))\n",
    "\n",
    "scale = StandardScaler()\n",
    "X_scaled = scale.fit_transform(X_resampled)\n",
    "\n",
    "X_train_rus, X_val_rus, y_train_rus, y_val_rus = train_test_split(X_scaled, y_resampled, test_size=0.25)"
   ],
   "metadata": {
    "collapsed": false,
    "pycharm": {
     "name": "#%%\n"
    }
   }
  },
  {
   "cell_type": "markdown",
   "source": [
    "LogisticRegression - random undersampling"
   ],
   "metadata": {
    "collapsed": false
   }
  },
  {
   "cell_type": "code",
   "execution_count": 321,
   "outputs": [
    {
     "name": "stdout",
     "output_type": "stream",
     "text": [
      "              precision    recall  f1-score   support\n",
      "\n",
      "           0      0.839     0.788     0.813     24633\n",
      "           1      0.799     0.849     0.823     24558\n",
      "\n",
      "    accuracy                          0.818     49191\n",
      "   macro avg      0.819     0.818     0.818     49191\n",
      "weighted avg      0.819     0.818     0.818     49191\n",
      "\n"
     ]
    },
    {
     "data": {
      "text/plain": "<Figure size 432x288 with 2 Axes>",
      "image/png": "[encoded data removed]"
     },
     "metadata": {
      "needs_background": "light"
     },
     "output_type": "display_data"
    }
   ],
   "source": [
    "log_reg_rus = LogisticRegression()\n",
    "\n",
    "log_reg_rus.fit(X_train_rus, y_train_rus)\n",
    "y_logpred_rus = log_reg_rus.predict(X_val_rus)\n",
    "\n",
    "print(classification_report(y_val_rus, y_logpred_rus, digits=3))\n",
    "cm_log_rus = confusion_matrix(y_val_rus, y_logpred_rus)\n",
    "f_log_rus = sns.heatmap(cm_log_rus, annot=True, fmt='d')"
   ],
   "metadata": {
    "collapsed": false,
    "pycharm": {
     "name": "#%%\n"
    }
   }
  },
  {
   "cell_type": "code",
   "execution_count": 322,
   "outputs": [
    {
     "data": {
      "text/plain": "<Figure size 432x288 with 1 Axes>",
      "image/png": "[encoded data removed]"
     },
     "metadata": {
      "needs_background": "light"
     },
     "output_type": "display_data"
    }
   ],
   "source": [
    "fpr, tpr, _ = metrics.roc_curve(y_val_rus,  y_logpred_rus)\n",
    "auc = metrics.roc_auc_score(y_val_rus, y_logpred_rus)\n",
    "\n",
    "plt.plot(fpr,tpr,label=\"AUC=\"+str(auc))\n",
    "plt.ylabel('True Positive Rate')\n",
    "plt.xlabel('False Positive Rate')\n",
    "plt.legend(loc=4)\n",
    "plt.show()"
   ],
   "metadata": {
    "collapsed": false,
    "pycharm": {
     "name": "#%%\n"
    }
   }
  },
  {
   "cell_type": "markdown",
   "source": [
    "LR tuning - rus"
   ],
   "metadata": {
    "collapsed": false
   }
  },
  {
   "cell_type": "code",
   "execution_count": 265,
   "outputs": [
    {
     "name": "stderr",
     "output_type": "stream",
     "text": [
      "/Users/wangzhuli/Desktop/Programing/pythonProject/venv/lib/python3.10/site-packages/sklearn/linear_model/_logistic.py:1113: UserWarning: Setting penalty='none' will ignore the C and l1_ratio parameters\n",
      "  warnings.warn(\n",
      "/Users/wangzhuli/Desktop/Programing/pythonProject/venv/lib/python3.10/site-packages/sklearn/linear_model/_logistic.py:1113: UserWarning: Setting penalty='none' will ignore the C and l1_ratio parameters\n",
      "  warnings.warn(\n",
      "/Users/wangzhuli/Desktop/Programing/pythonProject/venv/lib/python3.10/site-packages/sklearn/linear_model/_logistic.py:1113: UserWarning: Setting penalty='none' will ignore the C and l1_ratio parameters\n",
      "  warnings.warn(\n",
      "/Users/wangzhuli/Desktop/Programing/pythonProject/venv/lib/python3.10/site-packages/sklearn/linear_model/_logistic.py:1113: UserWarning: Setting penalty='none' will ignore the C and l1_ratio parameters\n",
      "  warnings.warn(\n",
      "/Users/wangzhuli/Desktop/Programing/pythonProject/venv/lib/python3.10/site-packages/sklearn/linear_model/_logistic.py:1113: UserWarning: Setting penalty='none' will ignore the C and l1_ratio parameters\n",
      "  warnings.warn(\n",
      "/Users/wangzhuli/Desktop/Programing/pythonProject/venv/lib/python3.10/site-packages/sklearn/linear_model/_logistic.py:1113: UserWarning: Setting penalty='none' will ignore the C and l1_ratio parameters\n",
      "  warnings.warn(\n",
      "/Users/wangzhuli/Desktop/Programing/pythonProject/venv/lib/python3.10/site-packages/sklearn/linear_model/_logistic.py:1113: UserWarning: Setting penalty='none' will ignore the C and l1_ratio parameters\n",
      "  warnings.warn(\n",
      "/Users/wangzhuli/Desktop/Programing/pythonProject/venv/lib/python3.10/site-packages/sklearn/linear_model/_logistic.py:1113: UserWarning: Setting penalty='none' will ignore the C and l1_ratio parameters\n",
      "  warnings.warn(\n",
      "/Users/wangzhuli/Desktop/Programing/pythonProject/venv/lib/python3.10/site-packages/sklearn/linear_model/_logistic.py:1113: UserWarning: Setting penalty='none' will ignore the C and l1_ratio parameters\n",
      "  warnings.warn(\n",
      "/Users/wangzhuli/Desktop/Programing/pythonProject/venv/lib/python3.10/site-packages/sklearn/linear_model/_logistic.py:1113: UserWarning: Setting penalty='none' will ignore the C and l1_ratio parameters\n",
      "  warnings.warn(\n",
      "/Users/wangzhuli/Desktop/Programing/pythonProject/venv/lib/python3.10/site-packages/sklearn/linear_model/_logistic.py:1113: UserWarning: Setting penalty='none' will ignore the C and l1_ratio parameters\n",
      "  warnings.warn(\n",
      "/Users/wangzhuli/Desktop/Programing/pythonProject/venv/lib/python3.10/site-packages/sklearn/linear_model/_logistic.py:1113: UserWarning: Setting penalty='none' will ignore the C and l1_ratio parameters\n",
      "  warnings.warn(\n",
      "/Users/wangzhuli/Desktop/Programing/pythonProject/venv/lib/python3.10/site-packages/sklearn/linear_model/_logistic.py:1113: UserWarning: Setting penalty='none' will ignore the C and l1_ratio parameters\n",
      "  warnings.warn(\n",
      "/Users/wangzhuli/Desktop/Programing/pythonProject/venv/lib/python3.10/site-packages/sklearn/linear_model/_logistic.py:1113: UserWarning: Setting penalty='none' will ignore the C and l1_ratio parameters\n",
      "  warnings.warn(\n",
      "/Users/wangzhuli/Desktop/Programing/pythonProject/venv/lib/python3.10/site-packages/sklearn/linear_model/_logistic.py:1113: UserWarning: Setting penalty='none' will ignore the C and l1_ratio parameters\n",
      "  warnings.warn(\n",
      "/Users/wangzhuli/Desktop/Programing/pythonProject/venv/lib/python3.10/site-packages/sklearn/linear_model/_logistic.py:1113: UserWarning: Setting penalty='none' will ignore the C and l1_ratio parameters\n",
      "  warnings.warn(\n",
      "/Users/wangzhuli/Desktop/Programing/pythonProject/venv/lib/python3.10/site-packages/sklearn/linear_model/_logistic.py:1113: UserWarning: Setting penalty='none' will ignore the C and l1_ratio parameters\n",
      "  warnings.warn(\n",
      "/Users/wangzhuli/Desktop/Programing/pythonProject/venv/lib/python3.10/site-packages/sklearn/linear_model/_logistic.py:1113: UserWarning: Setting penalty='none' will ignore the C and l1_ratio parameters\n",
      "  warnings.warn(\n",
      "/Users/wangzhuli/Desktop/Programing/pythonProject/venv/lib/python3.10/site-packages/sklearn/linear_model/_logistic.py:1113: UserWarning: Setting penalty='none' will ignore the C and l1_ratio parameters\n",
      "  warnings.warn(\n",
      "/Users/wangzhuli/Desktop/Programing/pythonProject/venv/lib/python3.10/site-packages/sklearn/linear_model/_logistic.py:1113: UserWarning: Setting penalty='none' will ignore the C and l1_ratio parameters\n",
      "  warnings.warn(\n",
      "/Users/wangzhuli/Desktop/Programing/pythonProject/venv/lib/python3.10/site-packages/sklearn/linear_model/_logistic.py:1113: UserWarning: Setting penalty='none' will ignore the C and l1_ratio parameters\n",
      "  warnings.warn(\n",
      "/Users/wangzhuli/Desktop/Programing/pythonProject/venv/lib/python3.10/site-packages/sklearn/linear_model/_logistic.py:1113: UserWarning: Setting penalty='none' will ignore the C and l1_ratio parameters\n",
      "  warnings.warn(\n",
      "/Users/wangzhuli/Desktop/Programing/pythonProject/venv/lib/python3.10/site-packages/sklearn/linear_model/_logistic.py:1113: UserWarning: Setting penalty='none' will ignore the C and l1_ratio parameters\n",
      "  warnings.warn(\n",
      "/Users/wangzhuli/Desktop/Programing/pythonProject/venv/lib/python3.10/site-packages/sklearn/linear_model/_logistic.py:1113: UserWarning: Setting penalty='none' will ignore the C and l1_ratio parameters\n",
      "  warnings.warn(\n",
      "/Users/wangzhuli/Desktop/Programing/pythonProject/venv/lib/python3.10/site-packages/sklearn/linear_model/_logistic.py:1113: UserWarning: Setting penalty='none' will ignore the C and l1_ratio parameters\n",
      "  warnings.warn(\n",
      "/Users/wangzhuli/Desktop/Programing/pythonProject/venv/lib/python3.10/site-packages/sklearn/linear_model/_logistic.py:1113: UserWarning: Setting penalty='none' will ignore the C and l1_ratio parameters\n",
      "  warnings.warn(\n",
      "/Users/wangzhuli/Desktop/Programing/pythonProject/venv/lib/python3.10/site-packages/sklearn/linear_model/_logistic.py:1113: UserWarning: Setting penalty='none' will ignore the C and l1_ratio parameters\n",
      "  warnings.warn(\n",
      "/Users/wangzhuli/Desktop/Programing/pythonProject/venv/lib/python3.10/site-packages/sklearn/linear_model/_logistic.py:1113: UserWarning: Setting penalty='none' will ignore the C and l1_ratio parameters\n",
      "  warnings.warn(\n",
      "/Users/wangzhuli/Desktop/Programing/pythonProject/venv/lib/python3.10/site-packages/sklearn/linear_model/_logistic.py:1113: UserWarning: Setting penalty='none' will ignore the C and l1_ratio parameters\n",
      "  warnings.warn(\n",
      "/Users/wangzhuli/Desktop/Programing/pythonProject/venv/lib/python3.10/site-packages/sklearn/linear_model/_logistic.py:1113: UserWarning: Setting penalty='none' will ignore the C and l1_ratio parameters\n",
      "  warnings.warn(\n",
      "/Users/wangzhuli/Desktop/Programing/pythonProject/venv/lib/python3.10/site-packages/sklearn/linear_model/_logistic.py:1113: UserWarning: Setting penalty='none' will ignore the C and l1_ratio parameters\n",
      "  warnings.warn(\n",
      "/Users/wangzhuli/Desktop/Programing/pythonProject/venv/lib/python3.10/site-packages/sklearn/linear_model/_logistic.py:1113: UserWarning: Setting penalty='none' will ignore the C and l1_ratio parameters\n",
      "  warnings.warn(\n",
      "/Users/wangzhuli/Desktop/Programing/pythonProject/venv/lib/python3.10/site-packages/sklearn/linear_model/_logistic.py:1113: UserWarning: Setting penalty='none' will ignore the C and l1_ratio parameters\n",
      "  warnings.warn(\n",
      "/Users/wangzhuli/Desktop/Programing/pythonProject/venv/lib/python3.10/site-packages/sklearn/linear_model/_logistic.py:1113: UserWarning: Setting penalty='none' will ignore the C and l1_ratio parameters\n",
      "  warnings.warn(\n",
      "/Users/wangzhuli/Desktop/Programing/pythonProject/venv/lib/python3.10/site-packages/sklearn/linear_model/_logistic.py:1113: UserWarning: Setting penalty='none' will ignore the C and l1_ratio parameters\n",
      "  warnings.warn(\n",
      "/Users/wangzhuli/Desktop/Programing/pythonProject/venv/lib/python3.10/site-packages/sklearn/linear_model/_logistic.py:1113: UserWarning: Setting penalty='none' will ignore the C and l1_ratio parameters\n",
      "  warnings.warn(\n",
      "/Users/wangzhuli/Desktop/Programing/pythonProject/venv/lib/python3.10/site-packages/sklearn/linear_model/_logistic.py:1113: UserWarning: Setting penalty='none' will ignore the C and l1_ratio parameters\n",
      "  warnings.warn(\n",
      "/Users/wangzhuli/Desktop/Programing/pythonProject/venv/lib/python3.10/site-packages/sklearn/linear_model/_logistic.py:1113: UserWarning: Setting penalty='none' will ignore the C and l1_ratio parameters\n",
      "  warnings.warn(\n",
      "/Users/wangzhuli/Desktop/Programing/pythonProject/venv/lib/python3.10/site-packages/sklearn/linear_model/_logistic.py:1113: UserWarning: Setting penalty='none' will ignore the C and l1_ratio parameters\n",
      "  warnings.warn(\n",
      "/Users/wangzhuli/Desktop/Programing/pythonProject/venv/lib/python3.10/site-packages/sklearn/linear_model/_logistic.py:1113: UserWarning: Setting penalty='none' will ignore the C and l1_ratio parameters\n",
      "  warnings.warn(\n",
      "/Users/wangzhuli/Desktop/Programing/pythonProject/venv/lib/python3.10/site-packages/sklearn/linear_model/_logistic.py:1113: UserWarning: Setting penalty='none' will ignore the C and l1_ratio parameters\n",
      "  warnings.warn(\n",
      "/Users/wangzhuli/Desktop/Programing/pythonProject/venv/lib/python3.10/site-packages/sklearn/linear_model/_logistic.py:1113: UserWarning: Setting penalty='none' will ignore the C and l1_ratio parameters\n",
      "  warnings.warn(\n",
      "/Users/wangzhuli/Desktop/Programing/pythonProject/venv/lib/python3.10/site-packages/sklearn/linear_model/_logistic.py:1113: UserWarning: Setting penalty='none' will ignore the C and l1_ratio parameters\n",
      "  warnings.warn(\n",
      "/Users/wangzhuli/Desktop/Programing/pythonProject/venv/lib/python3.10/site-packages/sklearn/linear_model/_logistic.py:1113: UserWarning: Setting penalty='none' will ignore the C and l1_ratio parameters\n",
      "  warnings.warn(\n",
      "/Users/wangzhuli/Desktop/Programing/pythonProject/venv/lib/python3.10/site-packages/sklearn/linear_model/_logistic.py:1113: UserWarning: Setting penalty='none' will ignore the C and l1_ratio parameters\n",
      "  warnings.warn(\n"
     ]
    },
    {
     "name": "stdout",
     "output_type": "stream",
     "text": [
      "Detail\n",
      "     mean_fit_time  mean_score_time  mean_test_score      param_C  \\\n",
      "0        2.286443         0.029082         0.815224          1.0   \n",
      "1        1.663469         0.012203         0.815197          1.0   \n",
      "2        1.299627         0.045255         0.815197     2.782559   \n",
      "3        1.213371         0.013142         0.815197     2.782559   \n",
      "4        1.270169         0.019086         0.815190     7.742637   \n",
      "5        1.415190         0.023406         0.815197     7.742637   \n",
      "6        1.219306         0.019838         0.815190    21.544347   \n",
      "7        1.550206         0.064024         0.815197    21.544347   \n",
      "8        1.691071         0.059618         0.815190    59.948425   \n",
      "9        1.955678         0.039789         0.815197    59.948425   \n",
      "10       1.544956         0.037096         0.815197   166.810054   \n",
      "11       1.651619         0.033745         0.815197   166.810054   \n",
      "12       1.638116         0.013012         0.815197   464.158883   \n",
      "13       1.326200         0.008688         0.815197   464.158883   \n",
      "14       1.195794         0.009565         0.815197  1291.549665   \n",
      "15       1.135397         0.005499         0.815197  1291.549665   \n",
      "16       1.117883         0.009787         0.815197  3593.813664   \n",
      "17       1.130262         0.006079         0.815197  3593.813664   \n",
      "18       1.152502         0.005993         0.815197      10000.0   \n",
      "19       0.970891         0.004002         0.815197      10000.0   \n",
      "\n",
      "   param_penalty                                        params  \\\n",
      "0             l2                   {'C': 1.0, 'penalty': 'l2'}   \n",
      "1           none                 {'C': 1.0, 'penalty': 'none'}   \n",
      "2             l2    {'C': 2.7825594022071245, 'penalty': 'l2'}   \n",
      "3           none  {'C': 2.7825594022071245, 'penalty': 'none'}   \n",
      "4             l2     {'C': 7.742636826811269, 'penalty': 'l2'}   \n",
      "5           none   {'C': 7.742636826811269, 'penalty': 'none'}   \n",
      "6             l2    {'C': 21.544346900318832, 'penalty': 'l2'}   \n",
      "7           none  {'C': 21.544346900318832, 'penalty': 'none'}   \n",
      "8             l2     {'C': 59.94842503189409, 'penalty': 'l2'}   \n",
      "9           none   {'C': 59.94842503189409, 'penalty': 'none'}   \n",
      "10            l2    {'C': 166.81005372000593, 'penalty': 'l2'}   \n",
      "11          none  {'C': 166.81005372000593, 'penalty': 'none'}   \n",
      "12            l2    {'C': 464.15888336127773, 'penalty': 'l2'}   \n",
      "13          none  {'C': 464.15888336127773, 'penalty': 'none'}   \n",
      "14            l2    {'C': 1291.5496650148827, 'penalty': 'l2'}   \n",
      "15          none  {'C': 1291.5496650148827, 'penalty': 'none'}   \n",
      "16            l2     {'C': 3593.813663804626, 'penalty': 'l2'}   \n",
      "17          none   {'C': 3593.813663804626, 'penalty': 'none'}   \n",
      "18            l2               {'C': 10000.0, 'penalty': 'l2'}   \n",
      "19          none             {'C': 10000.0, 'penalty': 'none'}   \n",
      "\n",
      "    rank_test_score  split0_test_score  split1_test_score  split2_test_score  \\\n",
      "0                 1           0.813248           0.818668           0.818092   \n",
      "1                 2           0.813248           0.818668           0.817991   \n",
      "2                 2           0.813214           0.818668           0.818025   \n",
      "3                 2           0.813248           0.818668           0.817991   \n",
      "4                18           0.813248           0.818668           0.817991   \n",
      "5                 2           0.813248           0.818668           0.817991   \n",
      "6                18           0.813248           0.818668           0.817991   \n",
      "7                 2           0.813248           0.818668           0.817991   \n",
      "8                18           0.813248           0.818668           0.817991   \n",
      "9                 2           0.813248           0.818668           0.817991   \n",
      "10                2           0.813248           0.818668           0.817991   \n",
      "11                2           0.813248           0.818668           0.817991   \n",
      "12                2           0.813248           0.818668           0.817991   \n",
      "13                2           0.813248           0.818668           0.817991   \n",
      "14                2           0.813248           0.818668           0.817991   \n",
      "15                2           0.813248           0.818668           0.817991   \n",
      "16                2           0.813248           0.818668           0.817991   \n",
      "17                2           0.813248           0.818668           0.817991   \n",
      "18                2           0.813248           0.818668           0.817991   \n",
      "19                2           0.813248           0.818668           0.817991   \n",
      "\n",
      "    split3_test_score  split4_test_score  std_fit_time  std_score_time  \\\n",
      "0            0.814020           0.812089      0.075650        0.015770   \n",
      "1            0.814054           0.812021      0.410141        0.005416   \n",
      "2            0.814020           0.812055      0.060902        0.027088   \n",
      "3            0.814054           0.812021      0.113157        0.011110   \n",
      "4            0.814020           0.812021      0.134634        0.012238   \n",
      "5            0.814054           0.812021      0.125608        0.013605   \n",
      "6            0.814020           0.812021      0.116415        0.012103   \n",
      "7            0.814054           0.812021      0.182236        0.050569   \n",
      "8            0.814020           0.812021      0.193200        0.049615   \n",
      "9            0.814054           0.812021      0.102662        0.014845   \n",
      "10           0.814054           0.812021      0.094631        0.012622   \n",
      "11           0.814054           0.812021      0.098911        0.013089   \n",
      "12           0.814054           0.812021      0.143503        0.006925   \n",
      "13           0.814054           0.812021      0.126473        0.002415   \n",
      "14           0.814054           0.812021      0.023417        0.004155   \n",
      "15           0.814054           0.812021      0.055308        0.000872   \n",
      "16           0.814054           0.812021      0.028670        0.005173   \n",
      "17           0.814054           0.812021      0.049555        0.001305   \n",
      "18           0.814054           0.812021      0.070537        0.003042   \n",
      "19           0.814054           0.812021      0.072857        0.000865   \n",
      "\n",
      "    std_test_score  \n",
      "0         0.002656  \n",
      "1         0.002648  \n",
      "2         0.002655  \n",
      "3         0.002648  \n",
      "4         0.002650  \n",
      "5         0.002648  \n",
      "6         0.002650  \n",
      "7         0.002648  \n",
      "8         0.002650  \n",
      "9         0.002648  \n",
      "10        0.002648  \n",
      "11        0.002648  \n",
      "12        0.002648  \n",
      "13        0.002648  \n",
      "14        0.002648  \n",
      "15        0.002648  \n",
      "16        0.002648  \n",
      "17        0.002648  \n",
      "18        0.002648  \n",
      "19        0.002648  \n",
      "Best estimator\n",
      " LogisticRegression()\n",
      "Best score\n",
      " 0.8152236226301397\n",
      "Best parameters\n",
      " {'C': 1.0, 'penalty': 'l2'}\n"
     ]
    }
   ],
   "source": [
    "parameters_lr_rus = {'C':np.logspace(0,4,10), 'penalty':['l1','l2','none']}\n",
    "\n",
    "clf_lr_rus = GridSearchCV(estimator= log_reg_rus, param_grid= parameters_lr_rus,\n",
    "                      scoring= 'accuracy', n_jobs= -1, cv= 5)\n",
    "clf_lr_rus.fit(X_train_rus, y_train_rus)\n",
    "\n",
    "print('Detail\\n', pd.DataFrame.from_records(clf_lr_rus.cv_results_))\n",
    "print('Best estimator\\n', clf_lr_rus.best_estimator_)\n",
    "print('Best score\\n', clf_lr_rus.best_score_)\n",
    "print('Best parameters\\n', clf_lr_rus.best_params_)"
   ],
   "metadata": {
    "collapsed": false,
    "pycharm": {
     "name": "#%%\n"
    }
   }
  },
  {
   "cell_type": "markdown",
   "source": [
    "XGboost - random undersampling"
   ],
   "metadata": {
    "collapsed": false,
    "pycharm": {
     "name": "#%% md\n"
    }
   }
  },
  {
   "cell_type": "code",
   "execution_count": 323,
   "outputs": [
    {
     "name": "stdout",
     "output_type": "stream",
     "text": [
      "              precision    recall  f1-score   support\n",
      "\n",
      "           0      0.949     0.940     0.945     24633\n",
      "           1      0.940     0.950     0.945     24558\n",
      "\n",
      "    accuracy                          0.945     49191\n",
      "   macro avg      0.945     0.945     0.945     49191\n",
      "weighted avg      0.945     0.945     0.945     49191\n",
      "\n"
     ]
    },
    {
     "data": {
      "text/plain": "<Figure size 432x288 with 2 Axes>",
      "image/png": "[encoded data removed]"
     },
     "metadata": {
      "needs_background": "light"
     },
     "output_type": "display_data"
    }
   ],
   "source": [
    "xgboost_rus = XGBClassifier()\n",
    "\n",
    "xgboost_rus.fit(X_train_rus, y_train_rus)\n",
    "y_xgbpred_rus = xgboost_rus.predict(X_val_rus)\n",
    "\n",
    "print(classification_report(y_val_rus, y_xgbpred_rus, digits=3))\n",
    "cm_xgb_rus = confusion_matrix(y_val_rus, y_xgbpred_rus)\n",
    "f_xgb_rus = sns.heatmap(cm_xgb_rus, annot=True, fmt='d')"
   ],
   "metadata": {
    "collapsed": false,
    "pycharm": {
     "name": "#%%\n"
    }
   }
  },
  {
   "cell_type": "code",
   "execution_count": 324,
   "outputs": [
    {
     "data": {
      "text/plain": "<Figure size 432x288 with 1 Axes>",
      "image/png": "[encoded data removed]"
     },
     "metadata": {
      "needs_background": "light"
     },
     "output_type": "display_data"
    }
   ],
   "source": [
    "fpr, tpr, _ = metrics.roc_curve(y_val_rus,  y_xgbpred_rus)\n",
    "auc = metrics.roc_auc_score(y_val_rus, y_xgbpred_rus)\n",
    "\n",
    "plt.plot(fpr,tpr,label=\"AUC=\"+str(auc))\n",
    "plt.ylabel('True Positive Rate')\n",
    "plt.xlabel('False Positive Rate')\n",
    "plt.legend(loc=4)\n",
    "plt.show()"
   ],
   "metadata": {
    "collapsed": false,
    "pycharm": {
     "name": "#%%\n"
    }
   }
  },
  {
   "cell_type": "markdown",
   "source": [
    "XGB tuning - rus"
   ],
   "metadata": {
    "collapsed": false
   }
  },
  {
   "cell_type": "code",
   "execution_count": null,
   "outputs": [],
   "source": [
    "parameters_xgb_rus = {'eta':['0.2','0.3','0.4'], 'gamma':['0','1','2'], 'max_depth':['5','6','7']}\n",
    "\n",
    "clf_xgb_rus = GridSearchCV(estimator= xgboost_rus, param_grid= parameters_xgb_rus,\n",
    "                      scoring= 'accuracy', n_jobs= -1, cv= 5)\n",
    "clf_xgb_rus.fit(X_train_rus, y_train_rus)\n",
    "\n",
    "print('Detail\\n', pd.DataFrame.from_records(clf_xgb_rus.cv_results_))\n",
    "print('Best estimator\\n', clf_xgb_rus.best_estimator_)\n",
    "print('Best score\\n', clf_xgb_rus.best_score_)\n",
    "print('Best parameters\\n', clf_xgb_rus.best_params_)"
   ],
   "metadata": {
    "collapsed": false,
    "pycharm": {
     "name": "#%%\n"
    }
   }
  },
  {
   "cell_type": "markdown",
   "source": [
    "random forest - random undersampling"
   ],
   "metadata": {
    "collapsed": false,
    "pycharm": {
     "name": "#%% md\n"
    }
   }
  },
  {
   "cell_type": "code",
   "execution_count": 325,
   "outputs": [
    {
     "name": "stdout",
     "output_type": "stream",
     "text": [
      "              precision    recall  f1-score   support\n",
      "\n",
      "           0       0.91      0.94      0.93     24633\n",
      "           1       0.94      0.91      0.92     24558\n",
      "\n",
      "    accuracy                           0.93     49191\n",
      "   macro avg       0.93      0.93      0.93     49191\n",
      "weighted avg       0.93      0.93      0.93     49191\n",
      "\n"
     ]
    },
    {
     "data": {
      "text/plain": "\"\\n# Print the results\\ndf_ran_predict = pd.DataFrame({'Actual':y_val, 'Predicted':y_ranpred})\\nprint(df_ran_predict)\\nprint('Mean Absolute Error:', metrics.mean_absolute_error(y_val, y_ranpred))\\nprint('Mean Squared Error:', metrics.mean_squared_error(y_val, y_ranpred))\\nprint('Root Mean Squared Error:', np.sqrt(metrics.mean_squared_error(y_val, y_ranpred)))\\n\""
     },
     "execution_count": 325,
     "metadata": {},
     "output_type": "execute_result"
    },
    {
     "data": {
      "text/plain": "<Figure size 432x288 with 2 Axes>",
      "image/png": "[encoded data removed]"
     },
     "metadata": {
      "needs_background": "light"
     },
     "output_type": "display_data"
    }
   ],
   "source": [
    "Ran_forest_rus = RandomForestClassifier()\n",
    "\n",
    "Ran_forest_rus.fit(X_train_rus, y_train_rus)\n",
    "y_ranpred_rus = Ran_forest_rus.predict(X_val_rus)\n",
    "\n",
    "print(classification_report(y_val_rus,y_ranpred_rus))\n",
    "cm_ran_rus = confusion_matrix(y_val_rus, y_ranpred_rus)\n",
    "f_ran_rus = sns.heatmap(cm_ran_rus, annot=True, fmt='d')"
   ],
   "metadata": {
    "collapsed": false,
    "pycharm": {
     "name": "#%%\n"
    }
   }
  },
  {
   "cell_type": "code",
   "execution_count": 326,
   "outputs": [
    {
     "data": {
      "text/plain": "<Figure size 432x288 with 1 Axes>",
      "image/png": "[encoded data removed]"
     },
     "metadata": {
      "needs_background": "light"
     },
     "output_type": "display_data"
    }
   ],
   "source": [
    "fpr, tpr, _ = metrics.roc_curve(y_val_rus,  y_ranpred_rus)\n",
    "auc = metrics.roc_auc_score(y_val_rus, y_ranpred_rus)\n",
    "\n",
    "plt.plot(fpr,tpr,label=\"AUC=\"+str(auc))\n",
    "plt.ylabel('True Positive Rate')\n",
    "plt.xlabel('False Positive Rate')\n",
    "plt.legend(loc=4)\n",
    "plt.show()"
   ],
   "metadata": {
    "collapsed": false,
    "pycharm": {
     "name": "#%%\n"
    }
   }
  },
  {
   "cell_type": "markdown",
   "source": [
    "RF tuning - rus"
   ],
   "metadata": {
    "collapsed": false
   }
  },
  {
   "cell_type": "code",
   "execution_count": 223,
   "outputs": [
    {
     "name": "stdout",
     "output_type": "stream",
     "text": [
      "Detail\n",
      "      mean_fit_time  mean_score_time  mean_test_score param_max_depth  \\\n",
      "0         1.249366         0.046224         0.758892               3   \n",
      "1         1.585286         0.069692         0.771252               3   \n",
      "2         1.737697         0.061440         0.795274               3   \n",
      "3         2.102665         0.089738         0.803880               3   \n",
      "4         2.647236         0.099572         0.812202               3   \n",
      "..             ...              ...              ...             ...   \n",
      "331       3.575022         0.120557         0.884938              13   \n",
      "332       5.221457         0.124653         0.884139              13   \n",
      "333       6.245138         0.145513         0.885067              13   \n",
      "334       7.285700         0.179810         0.885026              13   \n",
      "335       6.803024         0.149364         0.886111              13   \n",
      "\n",
      "    param_min_samples_split param_n_estimators  \\\n",
      "0                        50                 10   \n",
      "1                        50                 20   \n",
      "2                        50                 30   \n",
      "3                        50                 40   \n",
      "4                        50                 50   \n",
      "..                      ...                ...   \n",
      "331                     190                 30   \n",
      "332                     190                 40   \n",
      "333                     190                 50   \n",
      "334                     190                 60   \n",
      "335                     190                 70   \n",
      "\n",
      "                                                params  rank_test_score  \\\n",
      "0    {'max_depth': 3, 'min_samples_split': 50, 'n_e...              336   \n",
      "1    {'max_depth': 3, 'min_samples_split': 50, 'n_e...              327   \n",
      "2    {'max_depth': 3, 'min_samples_split': 50, 'n_e...              306   \n",
      "3    {'max_depth': 3, 'min_samples_split': 50, 'n_e...              290   \n",
      "4    {'max_depth': 3, 'min_samples_split': 50, 'n_e...              281   \n",
      "..                                                 ...              ...   \n",
      "331  {'max_depth': 13, 'min_samples_split': 190, 'n...               44   \n",
      "332  {'max_depth': 13, 'min_samples_split': 190, 'n...               49   \n",
      "333  {'max_depth': 13, 'min_samples_split': 190, 'n...               42   \n",
      "334  {'max_depth': 13, 'min_samples_split': 190, 'n...               43   \n",
      "335  {'max_depth': 13, 'min_samples_split': 190, 'n...               29   \n",
      "\n",
      "     split0_test_score  split1_test_score  split2_test_score  \\\n",
      "0             0.760596           0.719465           0.798001   \n",
      "1             0.739150           0.741691           0.814061   \n",
      "2             0.768829           0.826800           0.794715   \n",
      "3             0.778858           0.824293           0.830832   \n",
      "4             0.757920           0.830019           0.835067   \n",
      "..                 ...                ...                ...   \n",
      "331           0.881213           0.886973           0.888023   \n",
      "332           0.878062           0.887921           0.887312   \n",
      "333           0.882162           0.884737           0.886634   \n",
      "334           0.880840           0.884194           0.887955   \n",
      "335           0.884567           0.884194           0.888768   \n",
      "\n",
      "     split3_test_score  split4_test_score  std_fit_time  std_score_time  \\\n",
      "0             0.722301           0.794098      0.103897        0.009702   \n",
      "1             0.780409           0.780951      0.246187        0.012689   \n",
      "2             0.752152           0.833875      0.086385        0.009905   \n",
      "3             0.807752           0.777665      0.109514        0.012820   \n",
      "4             0.832317           0.805685      0.090803        0.011602   \n",
      "..                 ...                ...           ...             ...   \n",
      "331           0.882632           0.885851      0.088975        0.053210   \n",
      "332           0.882768           0.884631      0.066212        0.012378   \n",
      "333           0.884597           0.887206      0.064489        0.023261   \n",
      "334           0.884902           0.887240      0.149585        0.012963   \n",
      "335           0.884021           0.889002      0.748072        0.006228   \n",
      "\n",
      "     std_test_score  \n",
      "0          0.033661  \n",
      "1          0.027982  \n",
      "2          0.031759  \n",
      "3          0.022232  \n",
      "4          0.029099  \n",
      "..              ...  \n",
      "331        0.002596  \n",
      "332        0.003562  \n",
      "333        0.001778  \n",
      "334        0.002518  \n",
      "335        0.002273  \n",
      "\n",
      "[336 rows x 16 columns]\n",
      "Best estimator\n",
      " RandomForestClassifier(max_depth=13, min_samples_split=50, n_estimators=60)\n",
      "Best score\n",
      " 0.8890447454419739\n",
      "Best parameters\n",
      " {'max_depth': 13, 'min_samples_split': 50, 'n_estimators': 60}\n"
     ]
    }
   ],
   "source": [
    "#Random forest\n",
    "parameters_rf = {'n_estimators':range(10,71,10), 'max_depth':range(3,14,2), 'min_samples_split':range(50,201,20)}\n",
    "\n",
    "# initiate GridSearchCV model\n",
    "clf_rf = GridSearchCV(estimator= Ran_forest_rus, param_grid= parameters_rf,\n",
    "                      scoring= 'accuracy', n_jobs= -1, cv= 5)\n",
    "clf_rf.fit(X_train_rus, y_train_rus)\n",
    "\n",
    "#result\n",
    "print('Detail\\n', pd.DataFrame.from_records(clf_rf.cv_results_))\n",
    "print('Best estimator\\n', clf_rf.best_estimator_)\n",
    "print('Best score\\n', clf_rf.best_score_)\n",
    "print('Best parameters\\n', clf_rf.best_params_)"
   ],
   "metadata": {
    "collapsed": false,
    "pycharm": {
     "name": "#%%\n"
    }
   }
  },
  {
   "cell_type": "markdown",
   "source": [
    "svm - random undersampling - 50mins"
   ],
   "metadata": {
    "collapsed": false,
    "pycharm": {
     "name": "#%% md\n"
    }
   }
  },
  {
   "cell_type": "code",
   "execution_count": 327,
   "outputs": [
    {
     "name": "stdout",
     "output_type": "stream",
     "text": [
      "              precision    recall  f1-score   support\n",
      "\n",
      "           0      0.844     0.898     0.870     24633\n",
      "           1      0.891     0.833     0.861     24558\n",
      "\n",
      "    accuracy                          0.866     49191\n",
      "   macro avg      0.867     0.866     0.866     49191\n",
      "weighted avg      0.867     0.866     0.866     49191\n",
      "\n"
     ]
    },
    {
     "data": {
      "text/plain": "<Figure size 432x288 with 2 Axes>",
      "image/png": "[encoded data removed]"
     },
     "metadata": {
      "needs_background": "light"
     },
     "output_type": "display_data"
    }
   ],
   "source": [
    "svm_rbf_rus = svm.SVC(kernel='rbf')\n",
    "\n",
    "svm_rbf_rus.fit(X_train_rus, y_train_rus)\n",
    "y_rsvmpred_rus = svm_rbf_rus.predict(X_val_rus)\n",
    "\n",
    "print(classification_report(y_val_rus, y_rsvmpred_rus, digits=3))\n",
    "cm_svm_rus = confusion_matrix(y_val_rus, y_rsvmpred_rus)\n",
    "f_svm_rus = sns.heatmap(cm_svm_rus, annot=True, fmt='d')"
   ],
   "metadata": {
    "collapsed": false,
    "pycharm": {
     "name": "#%%\n"
    }
   }
  },
  {
   "cell_type": "code",
   "execution_count": 328,
   "outputs": [
    {
     "data": {
      "text/plain": "<Figure size 432x288 with 1 Axes>",
      "image/png": "[encoded data removed]"
     },
     "metadata": {
      "needs_background": "light"
     },
     "output_type": "display_data"
    }
   ],
   "source": [
    "fpr, tpr, _ = metrics.roc_curve(y_val_rus,  y_rsvmpred_rus)\n",
    "auc = metrics.roc_auc_score(y_val_rus, y_rsvmpred_rus)\n",
    "\n",
    "plt.plot(fpr,tpr,label=\"AUC=\"+str(auc))\n",
    "plt.ylabel('True Positive Rate')\n",
    "plt.xlabel('False Positive Rate')\n",
    "plt.legend(loc=4)\n",
    "plt.show()"
   ],
   "metadata": {
    "collapsed": false,
    "pycharm": {
     "name": "#%%\n"
    }
   }
  },
  {
   "cell_type": "markdown",
   "source": [
    "SVM tuning - rus"
   ],
   "metadata": {
    "collapsed": false,
    "pycharm": {
     "name": "#%% md\n"
    }
   }
  },
  {
   "cell_type": "code",
   "execution_count": 329,
   "outputs": [
    {
     "name": "stdout",
     "output_type": "stream",
     "text": [
      "Detail\n",
      "    mean_fit_time  mean_score_time  mean_test_score param_C param_gamma  \\\n",
      "0    2892.949296       493.415704         0.609881     0.1           1   \n",
      "1    3250.334310       431.083822         0.699613     0.1         0.1   \n",
      "2    2468.107238       280.093773         0.830626     0.1        0.01   \n",
      "3    8125.220947       430.820357         0.757523       1           1   \n",
      "4    7838.206186       353.246870         0.787746       1         0.1   \n",
      "5    2601.305582       224.780376         0.858240       1        0.01   \n",
      "6    9994.926211       401.470765         0.766034      10           1   \n",
      "7    8634.679897       266.897043         0.812140      10         0.1   \n",
      "8    4328.600566       163.277113         0.865992      10        0.01   \n",
      "\n",
      "                      params  rank_test_score  split0_test_score  \\\n",
      "0     {'C': 0.1, 'gamma': 1}                9           0.612129   \n",
      "1   {'C': 0.1, 'gamma': 0.1}                8           0.699305   \n",
      "2  {'C': 0.1, 'gamma': 0.01}                3           0.830324   \n",
      "3       {'C': 1, 'gamma': 1}                7           0.759478   \n",
      "4     {'C': 1, 'gamma': 0.1}                5           0.789226   \n",
      "5    {'C': 1, 'gamma': 0.01}                2           0.859394   \n",
      "6      {'C': 10, 'gamma': 1}                6           0.768253   \n",
      "7    {'C': 10, 'gamma': 0.1}                4           0.815280   \n",
      "8   {'C': 10, 'gamma': 0.01}                1           0.866949   \n",
      "\n",
      "   split1_test_score  split2_test_score  split3_test_score  split4_test_score  \\\n",
      "0           0.609046           0.612807           0.607407           0.608017   \n",
      "1           0.702829           0.701135           0.696246           0.698550   \n",
      "2           0.830764           0.830561           0.829674           0.831809   \n",
      "3           0.756429           0.756802           0.754625           0.760283   \n",
      "4           0.789124           0.786888           0.784712           0.788778   \n",
      "5           0.859495           0.856751           0.858643           0.856915   \n",
      "6           0.765882           0.763578           0.764688           0.767771   \n",
      "7           0.809826           0.808741           0.811242           0.815613   \n",
      "8           0.865086           0.864950           0.867385           0.865589   \n",
      "\n",
      "   std_fit_time  std_score_time  std_test_score  \n",
      "0     27.111393        0.328853        0.002187  \n",
      "1     42.455455        0.790923        0.002246  \n",
      "2     37.928682        0.366137        0.000696  \n",
      "3    123.713021        1.577989        0.002076  \n",
      "4    172.929265        2.019809        0.001737  \n",
      "5     51.419879        0.529976        0.001187  \n",
      "6    309.848184        3.735992        0.001778  \n",
      "7    703.782807       31.205290        0.002816  \n",
      "8    277.701269       15.554323        0.000993  \n",
      "Best estimator\n",
      " SVC(C=10, gamma=0.01)\n",
      "Best score\n",
      " 0.8659917531708065\n",
      "Best parameters\n",
      " {'C': 10, 'gamma': 0.01}\n"
     ]
    }
   ],
   "source": [
    "parameters_svm_rus = {'C':[0.1, 1, 10], 'gamma':[1, 0.1, 0.01,'scale']}\n",
    "\n",
    "clf_svm_rus = GridSearchCV(estimator= svm_rbf_rus, param_grid= parameters_svm_rus,\n",
    "                      scoring= 'accuracy', n_jobs= -1, cv= 5)\n",
    "clf_svm_rus.fit(X_train_rus, y_train_rus)\n",
    "\n",
    "print('Detail\\n', pd.DataFrame.from_records(clf_svm_rus.cv_results_))\n",
    "print('Best estimator\\n', clf_svm_rus.best_estimator_)\n",
    "print('Best score\\n', clf_svm_rus.best_score_)\n",
    "print('Best parameters\\n', clf_svm_rus.best_params_)"
   ],
   "metadata": {
    "collapsed": false,
    "pycharm": {
     "name": "#%%\n"
    }
   }
  }
 ],
 "metadata": {
  "kernelspec": {
   "display_name": "Python 3 (ipykernel)",
   "language": "python",
   "name": "python3"
  },
  "language_info": {
   "codemirror_mode": {
    "name": "ipython",
    "version": 2
   },
   "file_extension": ".py",
   "mimetype": "text/x-python",
   "name": "python",
   "nbconvert_exporter": "python",
   "pygments_lexer": "ipython2",
   "version": "2.7.6"
  }
 },
 "nbformat": 4,
 "nbformat_minor": 1
}